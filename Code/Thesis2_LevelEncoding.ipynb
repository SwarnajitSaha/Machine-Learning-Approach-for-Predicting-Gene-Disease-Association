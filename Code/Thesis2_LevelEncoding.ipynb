{
  "nbformat": 4,
  "nbformat_minor": 0,
  "metadata": {
    "colab": {
      "provenance": []
    },
    "kernelspec": {
      "name": "python3",
      "display_name": "Python 3"
    },
    "language_info": {
      "name": "python"
    }
  },
  "cells": [
    {
      "cell_type": "code",
      "execution_count": null,
      "metadata": {
        "id": "cqvC1x61XvGj"
      },
      "outputs": [],
      "source": [
        "import pandas as pd\n",
        "import numpy as np\n",
        "from google.colab import files\n",
        "from sklearn.preprocessing import MinMaxScaler\n",
        "from sklearn.linear_model import LinearRegression\n",
        "from sklearn.model_selection import train_test_split\n",
        "from sklearn.metrics import mean_squared_error\n",
        "from sklearn.svm import SVR\n",
        "from sklearn.metrics import accuracy_score\n",
        "from sklearn.ensemble import RandomForestRegressor\n",
        "from sklearn.linear_model import Lasso\n",
        "from sklearn.linear_model import Ridge\n",
        "import matplotlib.pyplot as plt\n",
        "from sklearn.preprocessing import LabelEncoder\n",
        "from sklearn.tree import DecisionTreeRegressor\n",
        "from sklearn.ensemble import GradientBoostingRegressor\n",
        "import networkx as nx\n",
        "import seaborn as sns"
      ]
    },
    {
      "cell_type": "code",
      "source": [
        "from google.colab import drive\n",
        "drive.mount('/content/drive')"
      ],
      "metadata": {
        "colab": {
          "base_uri": "https://localhost:8080/"
        },
        "id": "ty4SgkHtX2z6",
        "outputId": "725f69f1-2b9b-4d53-fc93-83b315c336e3"
      },
      "execution_count": null,
      "outputs": [
        {
          "output_type": "stream",
          "name": "stdout",
          "text": [
            "Drive already mounted at /content/drive; to attempt to forcibly remount, call drive.mount(\"/content/drive\", force_remount=True).\n"
          ]
        }
      ]
    },
    {
      "cell_type": "code",
      "source": [
        "original_dataset_path = '/content/drive/MyDrive/Thesis/Dataset/gene_disease_associations.csv'\n",
        "\n",
        "# Read the original Excel dataset\n",
        "df = pd.read_csv(original_dataset_path)\n",
        "\n",
        "# Filter the dataset based on the condition (score > 0.2)\n",
        "filtered_df = df[df['score'] > 0.25]\n",
        "\n",
        "# Convert DataFrame to CSV format\n",
        "filtered_csv = filtered_df.to_csv(index=False)\n",
        "\n",
        "# Specify the filename for the filtered dataset\n",
        "filtered_dataset_filename = 'filtered_dataset.csv'\n",
        "\n",
        "# Save the CSV file locally in the Google Colab environment\n",
        "with open(filtered_dataset_filename, 'w') as file:\n",
        "    file.write(filtered_csv)\n",
        "\n",
        "# Download the CSV file from Google Colab\n",
        "files.download(filtered_dataset_filename)"
      ],
      "metadata": {
        "colab": {
          "base_uri": "https://localhost:8080/",
          "height": 17
        },
        "id": "DYLL0-MpYBqB",
        "outputId": "7446d0cb-6113-46ae-e6d9-e493d005502d"
      },
      "execution_count": null,
      "outputs": [
        {
          "output_type": "display_data",
          "data": {
            "text/plain": [
              "<IPython.core.display.Javascript object>"
            ],
            "application/javascript": [
              "\n",
              "    async function download(id, filename, size) {\n",
              "      if (!google.colab.kernel.accessAllowed) {\n",
              "        return;\n",
              "      }\n",
              "      const div = document.createElement('div');\n",
              "      const label = document.createElement('label');\n",
              "      label.textContent = `Downloading \"${filename}\": `;\n",
              "      div.appendChild(label);\n",
              "      const progress = document.createElement('progress');\n",
              "      progress.max = size;\n",
              "      div.appendChild(progress);\n",
              "      document.body.appendChild(div);\n",
              "\n",
              "      const buffers = [];\n",
              "      let downloaded = 0;\n",
              "\n",
              "      const channel = await google.colab.kernel.comms.open(id);\n",
              "      // Send a message to notify the kernel that we're ready.\n",
              "      channel.send({})\n",
              "\n",
              "      for await (const message of channel.messages) {\n",
              "        // Send a message to notify the kernel that we're ready.\n",
              "        channel.send({})\n",
              "        if (message.buffers) {\n",
              "          for (const buffer of message.buffers) {\n",
              "            buffers.push(buffer);\n",
              "            downloaded += buffer.byteLength;\n",
              "            progress.value = downloaded;\n",
              "          }\n",
              "        }\n",
              "      }\n",
              "      const blob = new Blob(buffers, {type: 'application/binary'});\n",
              "      const a = document.createElement('a');\n",
              "      a.href = window.URL.createObjectURL(blob);\n",
              "      a.download = filename;\n",
              "      div.appendChild(a);\n",
              "      a.click();\n",
              "      div.remove();\n",
              "    }\n",
              "  "
            ]
          },
          "metadata": {}
        },
        {
          "output_type": "display_data",
          "data": {
            "text/plain": [
              "<IPython.core.display.Javascript object>"
            ],
            "application/javascript": [
              "download(\"download_0b1464ca-65eb-4cbf-a4fe-0a15c9f60686\", \"filtered_dataset.csv\", 741723)"
            ]
          },
          "metadata": {}
        }
      ]
    },
    {
      "cell_type": "code",
      "source": [
        "# data_path = '/content/drive/My Drive/Thesis/Dataset/filtered_dataset.csv'\n",
        "data_path = '/content/drive/My Drive/pro/filtered_dataset.csv'\n",
        "df = pd.read_csv(data_path)\n",
        "df.head()\n",
        "\n",
        "# Get unique values of the \"geneSymbol\" column\n",
        "unique_genes = df['geneId'].nunique()\n",
        "\n",
        "# Get unique values of the \"DiseaseName\" column\n",
        "unique_diseases = df['diseaseId'].nunique()\n",
        "\n",
        "print(\"Total data:\",df.shape[0])\n",
        "\n",
        "# Print the unique gene symbols\n",
        "print(\"Unique Gene Quantity:\")\n",
        "print(unique_genes)\n",
        "\n",
        "# Print the unique disease names\n",
        "print(\"\\nUnique Disease Quantity:\")\n",
        "print(unique_diseases)"
      ],
      "metadata": {
        "id": "8hFgrryhZZ0J",
        "colab": {
          "base_uri": "https://localhost:8080/"
        },
        "outputId": "092c6397-2ce6-4259-a1bf-fcc21d3c0cbb"
      },
      "execution_count": null,
      "outputs": [
        {
          "output_type": "stream",
          "name": "stdout",
          "text": [
            "Total data: 25682\n",
            "Unique Gene Quantity:\n",
            "7754\n",
            "\n",
            "Unique Disease Quantity:\n",
            "6170\n"
          ]
        }
      ]
    },
    {
      "cell_type": "markdown",
      "source": [
        "**Data combination analysis**"
      ],
      "metadata": {
        "id": "_HN1ejyMceKI"
      }
    },
    {
      "cell_type": "code",
      "source": [
        "df = pd.read_csv(data_path)\n",
        "\n",
        "# Split the \"associationType\" column by commas and create a new DataFrame\n",
        "association_df = df['associationType'].str.split(', ', expand=True)\n",
        "\n",
        "# Find unique combinations by converting each row to a frozenset and then finding unique rows\n",
        "unique_combinations = association_df.apply(frozenset, axis=1).unique()\n",
        "\n",
        "# Convert the frozensets back to lists for better visualization\n",
        "unique_combinations = [list(combination) for combination in unique_combinations]"
      ],
      "metadata": {
        "id": "cMoXDFIzcciT"
      },
      "execution_count": null,
      "outputs": []
    },
    {
      "cell_type": "code",
      "source": [
        "# Create a dictionary to store the count of each unique combination\n",
        "combination_count = {}\n",
        "\n",
        "# Count the occurrences of each unique combination in the DataFrame\n",
        "for combination in unique_combinations:\n",
        "    combination_str_list = [attr for attr in combination if attr]  # Remove None values\n",
        "    combination_str = ', '.join(combination_str_list)\n",
        "    count = (association_df.apply(lambda row: set(combination).issubset(row), axis=1)).sum()\n",
        "    combination_count[combination_str] = count"
      ],
      "metadata": {
        "id": "uho7v_DRc_b6"
      },
      "execution_count": null,
      "outputs": []
    },
    {
      "cell_type": "code",
      "source": [
        "# Convert the combination_count dictionary to a DataFrame for easier plotting\n",
        "combination_count_df = pd.DataFrame(list(combination_count.items()), columns=['Combination', 'Count'])\n",
        "\n",
        "# Sort the DataFrame by count in descending order\n",
        "combination_count_df = combination_count_df.sort_values(by='Count', ascending=False)\n",
        "\n",
        "# Create the bar chart\n",
        "plt.figure(figsize=(10, 6))\n",
        "plt.bar(combination_count_df['Combination'], combination_count_df['Count'])\n",
        "plt.xticks(rotation=45, ha='right')\n",
        "#plt.xlabel('Attribute Combination')\n",
        "plt.ylabel('Count')\n",
        "plt.title('Association Type Combinations')\n",
        "plt.tight_layout()\n",
        "plt.show()"
      ],
      "metadata": {
        "colab": {
          "base_uri": "https://localhost:8080/",
          "height": 607
        },
        "id": "ApmdzLfgdt6A",
        "outputId": "759648b8-4aed-4288-e345-b327ee60db3b"
      },
      "execution_count": null,
      "outputs": [
        {
          "output_type": "display_data",
          "data": {
            "text/plain": [
              "<Figure size 1000x600 with 1 Axes>"
            ],
            "image/png": "[encoded data removed]"
          },
          "metadata": {}
        }
      ]
    },
    {
      "cell_type": "markdown",
      "source": [
        "# **Level Encodeing to Gene Symbol**"
      ],
      "metadata": {
        "id": "zagwVwSnEPPq"
      }
    },
    {
      "cell_type": "code",
      "source": [
        "df = pd.read_csv(data_path)\n",
        "\n",
        "# Create a LabelEncoder object\n",
        "# Create a LabelEncoder object\n",
        "label_encoder = LabelEncoder()\n",
        "\n",
        "# Fit the encoder on the 'geneSymbol' column and transform the data\n",
        "df['geneSymbol_encoded'] = label_encoder.fit_transform(df['geneSymbol'])\n",
        "\n",
        "# Display the encoded DataFrame\n",
        "print(df)"
      ],
      "metadata": {
        "id": "n0okOqEGf96U",
        "colab": {
          "base_uri": "https://localhost:8080/"
        },
        "outputId": "71851205-c21d-4ce7-faad-c52bb81f1e1e"
      },
      "execution_count": null,
      "outputs": [
        {
          "output_type": "stream",
          "name": "stdout",
          "text": [
            "       geneId geneSymbol                                           geneName  \\\n",
            "0         540      ATP7B        ATPase, Cu++ transporting, beta polypeptide   \n",
            "1        4160       MC4R                            melanocortin 4 receptor   \n",
            "2        3667       IRS1                       insulin receptor substrate 1   \n",
            "3        4204      MECP2                       methyl CpG binding protein 2   \n",
            "4        1080       CFTR  cystic fibrosis transmembrane conductance regu...   \n",
            "...       ...        ...                                                ...   \n",
            "25677    3856       KRT8                                 keratin 8, type II   \n",
            "25678    3909      LAMA3                                   laminin, alpha 3   \n",
            "25679    5830       PEX5                    peroxisomal biogenesis factor 5   \n",
            "25680     585       BBS4                            Bardet-Biedl syndrome 4   \n",
            "25681   57502     NLGN4X                             neuroligin 4, X-linked   \n",
            "\n",
            "       AlteredExpression  Biomarker  GeneticVariation  \\\n",
            "0                    1.0        1.0               1.0   \n",
            "1                    0.0        1.0               1.0   \n",
            "2                    0.0        1.0               1.0   \n",
            "3                    1.0        1.0               1.0   \n",
            "4                    1.0        1.0               1.0   \n",
            "...                  ...        ...               ...   \n",
            "25677                0.0        1.0               1.0   \n",
            "25678                0.0        1.0               1.0   \n",
            "25679                0.0        1.0               1.0   \n",
            "25680                0.0        1.0               1.0   \n",
            "25681                0.0        1.0               1.0   \n",
            "\n",
            "       PostTranslationalModification  Therapeutic  diseaseId  \\\n",
            "0                                0.0          0.0      19202   \n",
            "1                                0.0          0.0      28754   \n",
            "2                                0.0          0.0      11860   \n",
            "3                                1.0          0.0      35372   \n",
            "4                                0.0          0.0      10674   \n",
            "...                              ...          ...        ...   \n",
            "25677                            0.0          0.0     267809   \n",
            "25678                            0.0          0.0      79683   \n",
            "25679                            0.0          0.0     282525   \n",
            "25680                            0.0          0.0    2936864   \n",
            "25681                            0.0          0.0    1136249   \n",
            "\n",
            "                         diseaseName     score  NumberOfPubmeds  \\\n",
            "0      Hepatolenticular Degeneration  0.972607              200   \n",
            "1                            Obesity  0.940000              264   \n",
            "2          Diabetes Mellitus, Type 2  0.907216              112   \n",
            "3                      Rett Syndrome  0.900000              498   \n",
            "4                    Cystic Fibrosis  0.900000             1074   \n",
            "...                              ...       ...              ...   \n",
            "25677         Cirrhosis, Cryptogenic  0.200284                1   \n",
            "25678  Epidermolysis bullosa letalis  0.200284                1   \n",
            "25679  Neonatal adrenoleukodystrophy  0.200284                1   \n",
            "25680        Bardet-Biedl syndrome 4  0.200284                1   \n",
            "25681   Mental Retardation, X-Linked  0.200284                1   \n",
            "\n",
            "                                         associationType  geneSymbol_encoded  \n",
            "0         AlteredExpression, Biomarker, GeneticVariation                 641  \n",
            "1                            Biomarker, GeneticVariation                4175  \n",
            "2                            Biomarker, GeneticVariation                3584  \n",
            "3      AlteredExpression, Biomarker, GeneticVariation...                4212  \n",
            "4         AlteredExpression, Biomarker, GeneticVariation                1269  \n",
            "...                                                  ...                 ...  \n",
            "25677                        Biomarker, GeneticVariation                3841  \n",
            "25678                        Biomarker, GeneticVariation                3864  \n",
            "25679                        Biomarker, GeneticVariation                5336  \n",
            "25680                        Biomarker, GeneticVariation                 726  \n",
            "25681                        Biomarker, GeneticVariation                4904  \n",
            "\n",
            "[25682 rows x 14 columns]\n"
          ]
        }
      ]
    },
    {
      "cell_type": "markdown",
      "source": [
        "# **Normalize geneId,diseaseId, numOfPubmed and geneSymbol_encoded**"
      ],
      "metadata": {
        "id": "KP0kJ9CkHiUR"
      }
    },
    {
      "cell_type": "code",
      "source": [
        "numerical_features = ['NumberOfPubmeds', 'geneId', 'diseaseId','geneSymbol_encoded']\n",
        "\n",
        "# Create an instance of the MinMaxScaler\n",
        "scaler = MinMaxScaler()\n",
        "\n",
        "# Fit the scaler to the numerical features and transform them\n",
        "X_scaled = scaler.fit_transform(df[numerical_features])\n"
      ],
      "metadata": {
        "id": "eVsAdQJmHnTQ"
      },
      "execution_count": null,
      "outputs": []
    },
    {
      "cell_type": "code",
      "source": [
        "#Replace the old values with new normalized values\n",
        "\n",
        "# Create a new DataFrame with the scaled values\n",
        "X_scaled_df = pd.DataFrame(X_scaled, columns=numerical_features)\n",
        "\n",
        "# Replace the original values with the normalized values\n",
        "df[numerical_features] = X_scaled_df"
      ],
      "metadata": {
        "id": "b5s2m0aCH4qU"
      },
      "execution_count": null,
      "outputs": []
    },
    {
      "cell_type": "code",
      "source": [
        "print(df[5:-2])"
      ],
      "metadata": {
        "colab": {
          "base_uri": "https://localhost:8080/"
        },
        "id": "7rlAY__oIHlZ",
        "outputId": "140ebe1d-c891-4584-f014-52388203f45a"
      },
      "execution_count": null,
      "outputs": [
        {
          "output_type": "stream",
          "name": "stdout",
          "text": [
            "         geneId geneSymbol                                           geneName  \\\n",
            "5      0.000055       PRNP                                      prion protein   \n",
            "6      0.000023       FMR1                     fragile X mental retardation 1   \n",
            "7      0.000038        KIT  v-kit Hardy-Zuckerman 4 feline sarcoma viral o...   \n",
            "8      0.000041       MEFV                                Mediterranean fever   \n",
            "9      0.000062      SCN5A  sodium channel, voltage gated, type V alpha su...   \n",
            "...         ...        ...                                                ...   \n",
            "25675  0.000045       TRNW                                               tRNA   \n",
            "25676  0.000019      ECHS1  enoyl CoA hydratase, short chain, 1, mitochond...   \n",
            "25677  0.000038       KRT8                                 keratin 8, type II   \n",
            "25678  0.000038      LAMA3                                   laminin, alpha 3   \n",
            "25679  0.000057       PEX5                    peroxisomal biogenesis factor 5   \n",
            "\n",
            "       AlteredExpression  Biomarker  GeneticVariation  \\\n",
            "5                    1.0        1.0               1.0   \n",
            "6                    1.0        1.0               1.0   \n",
            "7                    1.0        1.0               1.0   \n",
            "8                    1.0        1.0               1.0   \n",
            "9                    0.0        1.0               1.0   \n",
            "...                  ...        ...               ...   \n",
            "25675                0.0        1.0               1.0   \n",
            "25676                0.0        1.0               1.0   \n",
            "25677                0.0        1.0               1.0   \n",
            "25678                0.0        1.0               1.0   \n",
            "25679                0.0        1.0               1.0   \n",
            "\n",
            "       PostTranslationalModification  Therapeutic  diseaseId  \\\n",
            "5                                0.0          0.0   0.005670   \n",
            "6                                0.0          0.0   0.004181   \n",
            "7                                0.0          0.0   0.062331   \n",
            "8                                0.0          0.0   0.007962   \n",
            "9                                0.0          0.0   0.299614   \n",
            "...                              ...          ...        ...   \n",
            "25675                            0.0          0.0   0.005913   \n",
            "25676                            0.0          0.0   0.005913   \n",
            "25677                            0.0          0.0   0.070104   \n",
            "25678                            0.0          0.0   0.020723   \n",
            "25679                            0.0          0.0   0.073967   \n",
            "\n",
            "                           diseaseName     score  NumberOfPubmeds  \\\n",
            "5           Creutzfeldt-Jakob Syndrome  0.884361         0.105754   \n",
            "6                   Fragile X Syndrome  0.880361         0.203344   \n",
            "7      Gastrointestinal Stromal Tumors  0.879390         0.241446   \n",
            "8         Familial Mediterranean Fever  0.870271         0.125583   \n",
            "9                     Brugada Syndrome  0.869105         0.071151   \n",
            "...                                ...       ...              ...   \n",
            "25675                    Leigh Disease  0.200284         0.000389   \n",
            "25676                    Leigh Disease  0.200284         0.000389   \n",
            "25677           Cirrhosis, Cryptogenic  0.200284         0.000389   \n",
            "25678    Epidermolysis bullosa letalis  0.200284         0.000389   \n",
            "25679    Neonatal adrenoleukodystrophy  0.200284         0.000389   \n",
            "\n",
            "                                      associationType  geneSymbol_encoded  \n",
            "5      AlteredExpression, Biomarker, GeneticVariation            0.729395  \n",
            "6      AlteredExpression, Biomarker, GeneticVariation            0.325938  \n",
            "7      AlteredExpression, Biomarker, GeneticVariation            0.486650  \n",
            "8      AlteredExpression, Biomarker, GeneticVariation            0.545079  \n",
            "9                         Biomarker, GeneticVariation            0.807300  \n",
            "...                                               ...                 ...  \n",
            "25675                     Biomarker, GeneticVariation            0.942990  \n",
            "25676                     Biomarker, GeneticVariation            0.271379  \n",
            "25677                     Biomarker, GeneticVariation            0.495421  \n",
            "25678                     Biomarker, GeneticVariation            0.498388  \n",
            "25679                     Biomarker, GeneticVariation            0.688250  \n",
            "\n",
            "[25675 rows x 14 columns]\n"
          ]
        }
      ]
    },
    {
      "cell_type": "markdown",
      "source": [
        "# **Shuffle the dataset**"
      ],
      "metadata": {
        "id": "I-mCiWa1I9js"
      }
    },
    {
      "cell_type": "code",
      "source": [
        "shuffled_data = df.sample(frac=1, random_state=42)\n",
        "\n",
        "# Reset the index of the shuffled dataset\n",
        "shuffled_data.reset_index(drop=True, inplace=True)\n",
        "\n",
        "# Display the shuffled dataset\n",
        "print(shuffled_data.head())"
      ],
      "metadata": {
        "colab": {
          "base_uri": "https://localhost:8080/"
        },
        "id": "yDHKc0JTJBH0",
        "outputId": "ac951bde-9a8f-4620-e94e-5ece6596cc85"
      },
      "execution_count": null,
      "outputs": [
        {
          "output_type": "stream",
          "name": "stdout",
          "text": [
            "     geneId geneSymbol                                           geneName  \\\n",
            "0  0.000050   SERPINB2  serpin peptidase inhibitor, clade B (ovalbumin...   \n",
            "1  0.000047     NFKBIA  nuclear factor of kappa light polypeptide gene...   \n",
            "2  0.000040     MARCKS  myristoylated alanine-rich protein kinase C su...   \n",
            "3  0.000568        PRX                                           periaxin   \n",
            "4  0.000056      PSMB8  proteasome (prosome, macropain) subunit, beta ...   \n",
            "\n",
            "   AlteredExpression  Biomarker  GeneticVariation  \\\n",
            "0                0.0        1.0               0.0   \n",
            "1                0.0        1.0               1.0   \n",
            "2                0.0        1.0               0.0   \n",
            "3                0.0        1.0               0.0   \n",
            "4                0.0        1.0               1.0   \n",
            "\n",
            "   PostTranslationalModification  Therapeutic  diseaseId  \\\n",
            "0                            0.0          0.0   0.007974   \n",
            "1                            0.0          1.0   0.587568   \n",
            "2                            0.0          0.0   0.009281   \n",
            "3                            0.0          0.0   0.007974   \n",
            "4                            0.0          0.0   0.485562   \n",
            "\n",
            "                          diseaseName     score  NumberOfPubmeds  \\\n",
            "0  Peripheral Nervous System Diseases  0.210000         0.000778   \n",
            "1           Carcinoma, Hepatocellular  0.214302         0.003110   \n",
            "2            Salivary Gland Neoplasms  0.210000         0.000389   \n",
            "3  Peripheral Nervous System Diseases  0.210284         0.000778   \n",
            "4                     Nakajo syndrome  0.200851         0.001166   \n",
            "\n",
            "                            associationType  geneSymbol_encoded  \n",
            "0                                 Biomarker            0.816716  \n",
            "1  Biomarker, GeneticVariation, Therapeutic            0.627886  \n",
            "2                                 Biomarker            0.534374  \n",
            "3                                 Biomarker            0.733780  \n",
            "4               Biomarker, GeneticVariation            0.736360  \n"
          ]
        }
      ]
    },
    {
      "cell_type": "code",
      "source": [
        "shuffled_data.isnull().sum()  # Check for missing values in each column\n",
        "\n",
        "# Drop rows with missing values\n",
        "shuffled_data.dropna(inplace=True)\n",
        "\n",
        "# Fill missing values with a specific value\n",
        "shuffled_data.fillna(0, inplace=True)"
      ],
      "metadata": {
        "id": "dJNTTc21JdTb"
      },
      "execution_count": null,
      "outputs": []
    },
    {
      "cell_type": "markdown",
      "source": [
        "# **Performance Evaluation**"
      ],
      "metadata": {
        "id": "RpksiU8fJjoR"
      }
    },
    {
      "cell_type": "code",
      "source": [
        "class eva_per:\n",
        "\n",
        "  def rmse(y_true, y_pred):\n",
        "    \"\"\"Calculates the Root Mean Squared Error (RMSE)\"\"\"\n",
        "    mse = np.mean((y_true - y_pred) ** 2)\n",
        "    rmse = np.sqrt(mse)\n",
        "    return rmse\n",
        "\n",
        "  def mae(y_true, y_pred):\n",
        "    \"\"\"Calculates the Mean Absolute Error (MAE)\"\"\"\n",
        "    mae = np.mean(np.abs(y_true - y_pred))\n",
        "    return mae\n",
        "\n",
        "  def r_squared(y_true, y_pred):\n",
        "    \"\"\"Calculates the R-squared (R²) value\"\"\"\n",
        "    ss_res = np.sum((y_true - y_pred) ** 2)\n",
        "    ss_total = np.sum((y_true - np.mean(y_true)) ** 2)\n",
        "    r2 = 1 - (ss_res / ss_total)\n",
        "    return r2\n",
        "\n",
        "  def mean_sqaure(y_true, y_pred):\n",
        "    return mean_squared_error(y_test, y_pred)\n",
        "\n",
        "  def mape(y_true, y_pred):\n",
        "    \"\"\"Calculates the Mean Absolute Percentage Error (MAPE)\"\"\"\n",
        "    ape = np.abs((y_true - y_pred) / y_true)\n",
        "    mape = np.mean(ape) * 100\n",
        "    return mape"
      ],
      "metadata": {
        "id": "i8MJKHInJihi"
      },
      "execution_count": null,
      "outputs": []
    },
    {
      "cell_type": "markdown",
      "source": [
        "# **Data Splitting**"
      ],
      "metadata": {
        "id": "AnFmPnkZx-Ra"
      }
    },
    {
      "cell_type": "code",
      "source": [
        "X = shuffled_data[['geneId', 'AlteredExpression', 'Biomarker', 'GeneticVariation', 'PostTranslationalModification',\n",
        "          'Therapeutic', 'diseaseId', 'NumberOfPubmeds', 'geneSymbol_encoded']]\n",
        "y = shuffled_data['score']\n",
        "\n",
        "#  (70% training, 30% test)\n",
        "X_train, X_test, y_train, y_test = train_test_split(X, y, test_size=0.2, random_state=42)\n",
        "\n"
      ],
      "metadata": {
        "id": "asup5azNJy5J"
      },
      "execution_count": null,
      "outputs": []
    },
    {
      "cell_type": "markdown",
      "source": [
        "# **Linear Regression**"
      ],
      "metadata": {
        "id": "kifHC3faCIDr"
      }
    },
    {
      "cell_type": "code",
      "source": [
        "model = LinearRegression()\n",
        "model.fit(X_train, y_train)\n",
        "\n",
        "y_pred = model.predict(X_test)\n",
        "\n",
        "# Calculate the mean squared error (MSE)\n",
        "mse = eva_per.mean_sqaure(y_test, y_pred)\n",
        "\n",
        "# Print the MSE\n",
        "print(\"Mean Squared Error:\", mse)\n",
        "\n",
        "\n",
        "#calculate the rmse score\n",
        "rmse_score =eva_per.rmse(y_test, y_pred)\n",
        "print(\"RMSE:\", rmse_score)\n",
        "\n",
        "mae_score = eva_per.mae(y_test, y_pred)\n",
        "print(\"MAE:\", mae_score)\n",
        "\n",
        "r2_score = eva_per.r_squared(y_test, y_pred)\n",
        "print(\"R-squared:\", r2_score)\n",
        "\n",
        "\n",
        "mape_score = eva_per.mape(y_test, y_pred)\n",
        "print(\"MAPE:\", mape_score)"
      ],
      "metadata": {
        "colab": {
          "base_uri": "https://localhost:8080/"
        },
        "id": "C2IRb75JCHyk",
        "outputId": "92a7ee6f-71fc-4066-aef6-7af2d6f57263"
      },
      "execution_count": null,
      "outputs": [
        {
          "output_type": "stream",
          "name": "stdout",
          "text": [
            "Mean Squared Error: 0.008899611590084193\n",
            "RMSE: 0.09433775272966911\n",
            "MAE: 0.05641815813211512\n",
            "R-squared: 0.3735786927113979\n",
            "MAPE: 19.38232418865037\n"
          ]
        }
      ]
    },
    {
      "cell_type": "markdown",
      "source": [
        "# **Decision Tree Regressior**"
      ],
      "metadata": {
        "id": "bTOtBXo022Va"
      }
    },
    {
      "cell_type": "code",
      "source": [
        "model = DecisionTreeRegressor(random_state=42)\n",
        "model.fit(X_train, y_train)\n",
        "\n",
        "# Step 4: Make predictions\n",
        "y_pred = model.predict(X_test)\n",
        "\n",
        "\n",
        "# Calculate the mean squared error (MSE)\n",
        "mse = eva_per.mean_sqaure(y_test, y_pred)\n",
        "\n",
        "# Print the MSE\n",
        "print(\"Mean Squared Error:\", mse)\n",
        "\n",
        "\n",
        "#calculate the rmse score\n",
        "rmse_score =eva_per.rmse(y_test, y_pred)\n",
        "print(\"RMSE:\", rmse_score)\n",
        "\n",
        "mae_score = eva_per.mae(y_test, y_pred)\n",
        "print(\"MAE:\", mae_score)\n",
        "\n",
        "r2_score = eva_per.r_squared(y_test, y_pred)\n",
        "print(\"R-squared:\", r2_score)\n",
        "\n",
        "\n",
        "mape_score = eva_per.mape(y_test, y_pred)\n",
        "print(\"MAPE:\", mape_score)"
      ],
      "metadata": {
        "colab": {
          "base_uri": "https://localhost:8080/"
        },
        "id": "Rozhjfzb21ra",
        "outputId": "4e511245-abc7-474c-ce09-7c5af74d1545"
      },
      "execution_count": null,
      "outputs": [
        {
          "output_type": "stream",
          "name": "stdout",
          "text": [
            "Mean Squared Error: 0.008863313672416507\n",
            "RMSE: 0.09414517338884935\n",
            "MAE: 0.035393871847771194\n",
            "R-squared: 0.37613361196906303\n",
            "MAPE: 10.557076489438444\n"
          ]
        }
      ]
    },
    {
      "cell_type": "markdown",
      "source": [
        "# **Random Forest Regressor**"
      ],
      "metadata": {
        "id": "c-JV-wgb3TUy"
      }
    },
    {
      "cell_type": "code",
      "source": [
        "model = RandomForestRegressor()\n",
        "\n",
        "# Train the model on the training data\n",
        "model.fit(X_train, y_train)\n",
        "\n",
        "# Make predictions on the testing data\n",
        "y_pred = model.predict(X_test)\n",
        "\n",
        "# Make predictions on the testing data\n",
        "y_pred = model.predict(X_test)\n",
        "\n",
        "# Calculate the mean squared error (MSE)\n",
        "mse = eva_per.mean_sqaure(y_test, y_pred)\n",
        "\n",
        "# Print the MSE\n",
        "print(\"Mean Squared Error:\", mse)\n",
        "\n",
        "\n",
        "#calculate the rmse score\n",
        "rmse_score =eva_per.rmse(y_test, y_pred)\n",
        "print(\"RMSE:\", rmse_score)\n",
        "\n",
        "mae_score = eva_per.mae(y_test, y_pred)\n",
        "print(\"MAE:\", mae_score)\n",
        "\n",
        "r2_score = eva_per.r_squared(y_test, y_pred)\n",
        "print(\"R-squared:\", r2_score)\n",
        "\n",
        "\n",
        "mape_score = eva_per.mape(y_test, y_pred)\n",
        "print(\"MAPE:\", mape_score)"
      ],
      "metadata": {
        "colab": {
          "base_uri": "https://localhost:8080/"
        },
        "id": "Il-hSE1a3hoJ",
        "outputId": "4712549e-05fc-4b9f-8c4f-a51b6a70d6bb"
      },
      "execution_count": null,
      "outputs": [
        {
          "output_type": "stream",
          "name": "stdout",
          "text": [
            "Mean Squared Error: 0.005036116607285583\n",
            "RMSE: 0.07096560157770512\n",
            "MAE: 0.03120328938596871\n",
            "R-squared: 0.6455204008780984\n",
            "MAPE: 9.317290341557568\n"
          ]
        }
      ]
    },
    {
      "cell_type": "markdown",
      "source": [
        "# **Gradient Boosting Regressor**"
      ],
      "metadata": {
        "id": "-EvWr2zD5Sda"
      }
    },
    {
      "cell_type": "code",
      "source": [
        "model = GradientBoostingRegressor(random_state=42)\n",
        "model.fit(X_train, y_train)\n",
        "\n",
        "# Step 4: Make predictions\n",
        "y_pred = model.predict(X_test)\n",
        "\n",
        "# Calculate the mean squared error (MSE)\n",
        "mse = eva_per.mean_sqaure(y_test, y_pred)\n",
        "\n",
        "# Print the MSE\n",
        "print(\"Mean Squared Error:\", mse)\n",
        "\n",
        "\n",
        "#calculate the rmse score\n",
        "rmse_score =eva_per.rmse(y_test, y_pred)\n",
        "print(\"RMSE:\", rmse_score)\n",
        "\n",
        "mae_score = eva_per.mae(y_test, y_pred)\n",
        "print(\"MAE:\", mae_score)\n",
        "\n",
        "r2_score = eva_per.r_squared(y_test, y_pred)\n",
        "print(\"R-squared:\", r2_score)\n",
        "\n",
        "\n",
        "mape_score = eva_per.mape(y_test, y_pred)\n",
        "print(\"MAPE:\", mape_score)\n"
      ],
      "metadata": {
        "colab": {
          "base_uri": "https://localhost:8080/"
        },
        "id": "QWTbfCwm5Rjy",
        "outputId": "c3c60e92-3d04-4c54-db2f-d3aa55f07287"
      },
      "execution_count": null,
      "outputs": [
        {
          "output_type": "stream",
          "name": "stdout",
          "text": [
            "Mean Squared Error: 0.005490354819490005\n",
            "RMSE: 0.07409692854288905\n",
            "MAE: 0.03608420540466598\n",
            "R-squared: 0.6135477139996546\n",
            "MAPE: 11.108016322199008\n"
          ]
        }
      ]
    },
    {
      "cell_type": "markdown",
      "source": [
        "# **SVR**"
      ],
      "metadata": {
        "id": "DsVkdVWT6Or5"
      }
    },
    {
      "cell_type": "code",
      "source": [
        "model = SVR()\n",
        "\n",
        "# Train the model on the training data\n",
        "model.fit(X_train, y_train)\n",
        "\n",
        "# Make predictions on the testing data\n",
        "y_pred = model.predict(X_test)\n",
        "\n",
        "# Calculate the mean squared error (MSE)\n",
        "mse = eva_per.mean_sqaure(y_test, y_pred)\n",
        "\n",
        "# Print the MSE\n",
        "print(\"Mean Squared Error:\", mse)\n",
        "\n",
        "\n",
        "#calculate the rmse score\n",
        "rmse_score =eva_per.rmse(y_test, y_pred)\n",
        "print(\"RMSE:\", rmse_score)\n",
        "\n",
        "mae_score = eva_per.mae(y_test, y_pred)\n",
        "print(\"MAE:\", mae_score)\n",
        "\n",
        "r2_score = eva_per.r_squared(y_test, y_pred)\n",
        "print(\"R-squared:\", r2_score)\n",
        "\n",
        "\n",
        "mape_score = eva_per.mape(y_test, y_pred)\n",
        "print(\"MAPE:\", mape_score)\n"
      ],
      "metadata": {
        "colab": {
          "base_uri": "https://localhost:8080/"
        },
        "id": "29CwakpZ6RL5",
        "outputId": "d344136a-8e9f-4f9d-da35-8cd296faf23a"
      },
      "execution_count": null,
      "outputs": [
        {
          "output_type": "stream",
          "name": "stdout",
          "text": [
            "Mean Squared Error: 0.010681522730449543\n",
            "RMSE: 0.10335145248350186\n",
            "MAE: 0.08856400882527807\n",
            "R-squared: 0.248154443043753\n",
            "MAPE: 35.76567232471265\n"
          ]
        }
      ]
    },
    {
      "cell_type": "markdown",
      "source": [
        "**CatBoost**"
      ],
      "metadata": {
        "id": "wr-tg0KyzNgu"
      }
    },
    {
      "cell_type": "code",
      "source": [
        "from catboost import CatBoostRegressor\n",
        "from sklearn.metrics import mean_squared_error, mean_absolute_error, r2_score\n",
        "\n",
        "# Create a CatBoost regression model\n",
        "model = CatBoostRegressor(iterations=500, learning_rate=0.1, depth=6)\n",
        "\n",
        "# Train the model on the training data\n",
        "model.fit(X_train, y_train)\n",
        "\n",
        "# Make predictions on the testing data\n",
        "y_pred = model.predict(X_test)\n",
        "\n",
        "# Calculate the mean squared error (MSE)\n",
        "mse = mean_squared_error(y_test, y_pred)\n",
        "\n",
        "# Print the MSE\n",
        "print(\"Mean Squared Error:\", mse)\n",
        "\n",
        "# Calculate the root mean squared error (RMSE)\n",
        "rmse_score = np.sqrt(mse)\n",
        "print(\"RMSE:\", rmse_score)\n",
        "\n",
        "# Calculate the mean absolute error (MAE)\n",
        "mae_score = mean_absolute_error(y_test, y_pred)\n",
        "print(\"MAE:\", mae_score)\n",
        "\n",
        "# Calculate the R-squared (Coefficient of Determination)\n",
        "r2_score = r2_score(y_test, y_pred)\n",
        "print(\"R-squared:\", r2_score)\n",
        "\n",
        "# Calculate the Mean Absolute Percentage Error (MAPE) if you have defined it in \"eva_per\" module\n",
        "mape_score = eva_per.mape(y_test, y_pred)\n",
        "print(\"MAPE:\", mape_score)\n"
      ],
      "metadata": {
        "colab": {
          "base_uri": "https://localhost:8080/"
        },
        "id": "-_3CcZXfx4_v",
        "outputId": "e6430ca6-4ea7-4cf7-c311-467efaf8bde3"
      },
      "execution_count": null,
      "outputs": [
        {
          "output_type": "stream",
          "name": "stdout",
          "text": [
            "0:\tlearn: 0.1141246\ttotal: 51.5ms\tremaining: 25.7s\n",
            "1:\tlearn: 0.1088126\ttotal: 56.2ms\tremaining: 14s\n",
            "2:\tlearn: 0.1040042\ttotal: 59.9ms\tremaining: 9.93s\n",
            "3:\tlearn: 0.1003678\ttotal: 63.8ms\tremaining: 7.91s\n",
            "4:\tlearn: 0.0967680\ttotal: 67.4ms\tremaining: 6.67s\n",
            "5:\tlearn: 0.0936830\ttotal: 71.2ms\tremaining: 5.86s\n",
            "6:\tlearn: 0.0910521\ttotal: 75ms\tremaining: 5.28s\n",
            "7:\tlearn: 0.0888921\ttotal: 78.8ms\tremaining: 4.85s\n",
            "8:\tlearn: 0.0871539\ttotal: 82.7ms\tremaining: 4.51s\n",
            "9:\tlearn: 0.0856608\ttotal: 86.8ms\tremaining: 4.25s\n",
            "10:\tlearn: 0.0843296\ttotal: 90.8ms\tremaining: 4.03s\n",
            "11:\tlearn: 0.0833117\ttotal: 94.9ms\tremaining: 3.86s\n",
            "12:\tlearn: 0.0823203\ttotal: 98.9ms\tremaining: 3.7s\n",
            "13:\tlearn: 0.0816556\ttotal: 103ms\tremaining: 3.57s\n",
            "14:\tlearn: 0.0810034\ttotal: 107ms\tremaining: 3.45s\n",
            "15:\tlearn: 0.0803750\ttotal: 111ms\tremaining: 3.34s\n",
            "16:\tlearn: 0.0798105\ttotal: 114ms\tremaining: 3.25s\n",
            "17:\tlearn: 0.0793442\ttotal: 118ms\tremaining: 3.17s\n",
            "18:\tlearn: 0.0789555\ttotal: 122ms\tremaining: 3.09s\n",
            "19:\tlearn: 0.0787154\ttotal: 126ms\tremaining: 3.02s\n",
            "20:\tlearn: 0.0783869\ttotal: 130ms\tremaining: 2.96s\n",
            "21:\tlearn: 0.0781711\ttotal: 134ms\tremaining: 2.91s\n",
            "22:\tlearn: 0.0778585\ttotal: 138ms\tremaining: 2.85s\n",
            "23:\tlearn: 0.0776145\ttotal: 142ms\tremaining: 2.81s\n",
            "24:\tlearn: 0.0774471\ttotal: 146ms\tremaining: 2.77s\n",
            "25:\tlearn: 0.0772818\ttotal: 150ms\tremaining: 2.73s\n",
            "26:\tlearn: 0.0770872\ttotal: 154ms\tremaining: 2.69s\n",
            "27:\tlearn: 0.0768429\ttotal: 157ms\tremaining: 2.65s\n",
            "28:\tlearn: 0.0766492\ttotal: 161ms\tremaining: 2.61s\n",
            "29:\tlearn: 0.0765382\ttotal: 165ms\tremaining: 2.58s\n",
            "30:\tlearn: 0.0764538\ttotal: 169ms\tremaining: 2.55s\n",
            "31:\tlearn: 0.0763771\ttotal: 175ms\tremaining: 2.55s\n",
            "32:\tlearn: 0.0763069\ttotal: 179ms\tremaining: 2.53s\n",
            "33:\tlearn: 0.0762398\ttotal: 183ms\tremaining: 2.51s\n",
            "34:\tlearn: 0.0761759\ttotal: 187ms\tremaining: 2.48s\n",
            "35:\tlearn: 0.0760457\ttotal: 191ms\tremaining: 2.46s\n",
            "36:\tlearn: 0.0759396\ttotal: 196ms\tremaining: 2.45s\n",
            "37:\tlearn: 0.0758968\ttotal: 200ms\tremaining: 2.43s\n",
            "38:\tlearn: 0.0758529\ttotal: 204ms\tremaining: 2.41s\n",
            "39:\tlearn: 0.0758041\ttotal: 208ms\tremaining: 2.39s\n",
            "40:\tlearn: 0.0757414\ttotal: 211ms\tremaining: 2.36s\n",
            "41:\tlearn: 0.0756885\ttotal: 215ms\tremaining: 2.35s\n",
            "42:\tlearn: 0.0756380\ttotal: 219ms\tremaining: 2.33s\n",
            "43:\tlearn: 0.0755927\ttotal: 223ms\tremaining: 2.31s\n",
            "44:\tlearn: 0.0755413\ttotal: 227ms\tremaining: 2.29s\n",
            "45:\tlearn: 0.0755026\ttotal: 231ms\tremaining: 2.28s\n",
            "46:\tlearn: 0.0753799\ttotal: 234ms\tremaining: 2.26s\n",
            "47:\tlearn: 0.0753489\ttotal: 238ms\tremaining: 2.24s\n",
            "48:\tlearn: 0.0752550\ttotal: 242ms\tremaining: 2.23s\n",
            "49:\tlearn: 0.0751620\ttotal: 250ms\tremaining: 2.25s\n",
            "50:\tlearn: 0.0751147\ttotal: 256ms\tremaining: 2.25s\n",
            "51:\tlearn: 0.0750741\ttotal: 266ms\tremaining: 2.29s\n",
            "52:\tlearn: 0.0750263\ttotal: 274ms\tremaining: 2.31s\n",
            "53:\tlearn: 0.0749951\ttotal: 279ms\tremaining: 2.3s\n",
            "54:\tlearn: 0.0749004\ttotal: 282ms\tremaining: 2.28s\n",
            "55:\tlearn: 0.0748381\ttotal: 286ms\tremaining: 2.27s\n",
            "56:\tlearn: 0.0747549\ttotal: 290ms\tremaining: 2.25s\n",
            "57:\tlearn: 0.0747057\ttotal: 294ms\tremaining: 2.24s\n",
            "58:\tlearn: 0.0746655\ttotal: 298ms\tremaining: 2.23s\n",
            "59:\tlearn: 0.0746306\ttotal: 302ms\tremaining: 2.21s\n",
            "60:\tlearn: 0.0746049\ttotal: 306ms\tremaining: 2.2s\n",
            "61:\tlearn: 0.0745686\ttotal: 310ms\tremaining: 2.19s\n",
            "62:\tlearn: 0.0745010\ttotal: 314ms\tremaining: 2.17s\n",
            "63:\tlearn: 0.0744803\ttotal: 318ms\tremaining: 2.16s\n",
            "64:\tlearn: 0.0744254\ttotal: 322ms\tremaining: 2.15s\n",
            "65:\tlearn: 0.0743817\ttotal: 326ms\tremaining: 2.14s\n",
            "66:\tlearn: 0.0742941\ttotal: 329ms\tremaining: 2.13s\n",
            "67:\tlearn: 0.0742729\ttotal: 333ms\tremaining: 2.12s\n",
            "68:\tlearn: 0.0742224\ttotal: 337ms\tremaining: 2.11s\n",
            "69:\tlearn: 0.0741205\ttotal: 341ms\tremaining: 2.1s\n",
            "70:\tlearn: 0.0740806\ttotal: 345ms\tremaining: 2.08s\n",
            "71:\tlearn: 0.0740377\ttotal: 349ms\tremaining: 2.07s\n",
            "72:\tlearn: 0.0740016\ttotal: 353ms\tremaining: 2.06s\n",
            "73:\tlearn: 0.0739338\ttotal: 357ms\tremaining: 2.05s\n",
            "74:\tlearn: 0.0738981\ttotal: 361ms\tremaining: 2.04s\n",
            "75:\tlearn: 0.0738221\ttotal: 366ms\tremaining: 2.04s\n",
            "76:\tlearn: 0.0738014\ttotal: 369ms\tremaining: 2.03s\n",
            "77:\tlearn: 0.0737331\ttotal: 373ms\tremaining: 2.02s\n",
            "78:\tlearn: 0.0737000\ttotal: 377ms\tremaining: 2.01s\n",
            "79:\tlearn: 0.0736752\ttotal: 381ms\tremaining: 2s\n",
            "80:\tlearn: 0.0736485\ttotal: 385ms\tremaining: 1.99s\n",
            "81:\tlearn: 0.0736144\ttotal: 389ms\tremaining: 1.98s\n",
            "82:\tlearn: 0.0735932\ttotal: 393ms\tremaining: 1.97s\n",
            "83:\tlearn: 0.0735798\ttotal: 396ms\tremaining: 1.96s\n",
            "84:\tlearn: 0.0735525\ttotal: 400ms\tremaining: 1.95s\n",
            "85:\tlearn: 0.0735194\ttotal: 404ms\tremaining: 1.95s\n",
            "86:\tlearn: 0.0734866\ttotal: 408ms\tremaining: 1.94s\n",
            "87:\tlearn: 0.0734506\ttotal: 412ms\tremaining: 1.93s\n",
            "88:\tlearn: 0.0734309\ttotal: 416ms\tremaining: 1.92s\n",
            "89:\tlearn: 0.0734091\ttotal: 421ms\tremaining: 1.92s\n",
            "90:\tlearn: 0.0733627\ttotal: 425ms\tremaining: 1.91s\n",
            "91:\tlearn: 0.0733301\ttotal: 429ms\tremaining: 1.9s\n",
            "92:\tlearn: 0.0733045\ttotal: 433ms\tremaining: 1.9s\n",
            "93:\tlearn: 0.0732875\ttotal: 437ms\tremaining: 1.89s\n",
            "94:\tlearn: 0.0732106\ttotal: 442ms\tremaining: 1.89s\n",
            "95:\tlearn: 0.0731574\ttotal: 449ms\tremaining: 1.89s\n",
            "96:\tlearn: 0.0731275\ttotal: 452ms\tremaining: 1.88s\n",
            "97:\tlearn: 0.0730960\ttotal: 456ms\tremaining: 1.87s\n",
            "98:\tlearn: 0.0730777\ttotal: 460ms\tremaining: 1.86s\n",
            "99:\tlearn: 0.0729824\ttotal: 463ms\tremaining: 1.85s\n",
            "100:\tlearn: 0.0729774\ttotal: 467ms\tremaining: 1.84s\n",
            "101:\tlearn: 0.0729455\ttotal: 471ms\tremaining: 1.84s\n",
            "102:\tlearn: 0.0729124\ttotal: 475ms\tremaining: 1.83s\n",
            "103:\tlearn: 0.0728606\ttotal: 478ms\tremaining: 1.82s\n",
            "104:\tlearn: 0.0728419\ttotal: 482ms\tremaining: 1.81s\n",
            "105:\tlearn: 0.0727848\ttotal: 486ms\tremaining: 1.81s\n",
            "106:\tlearn: 0.0727553\ttotal: 490ms\tremaining: 1.8s\n",
            "107:\tlearn: 0.0727383\ttotal: 493ms\tremaining: 1.79s\n",
            "108:\tlearn: 0.0726942\ttotal: 497ms\tremaining: 1.78s\n",
            "109:\tlearn: 0.0726095\ttotal: 501ms\tremaining: 1.78s\n",
            "110:\tlearn: 0.0725949\ttotal: 505ms\tremaining: 1.77s\n",
            "111:\tlearn: 0.0725281\ttotal: 509ms\tremaining: 1.76s\n",
            "112:\tlearn: 0.0724847\ttotal: 513ms\tremaining: 1.75s\n",
            "113:\tlearn: 0.0724209\ttotal: 516ms\tremaining: 1.75s\n",
            "114:\tlearn: 0.0723816\ttotal: 520ms\tremaining: 1.74s\n",
            "115:\tlearn: 0.0723569\ttotal: 524ms\tremaining: 1.74s\n",
            "116:\tlearn: 0.0723310\ttotal: 528ms\tremaining: 1.73s\n",
            "117:\tlearn: 0.0722749\ttotal: 532ms\tremaining: 1.72s\n",
            "118:\tlearn: 0.0722531\ttotal: 535ms\tremaining: 1.71s\n",
            "119:\tlearn: 0.0722055\ttotal: 539ms\tremaining: 1.71s\n",
            "120:\tlearn: 0.0721598\ttotal: 543ms\tremaining: 1.7s\n",
            "121:\tlearn: 0.0721326\ttotal: 547ms\tremaining: 1.7s\n",
            "122:\tlearn: 0.0721177\ttotal: 551ms\tremaining: 1.69s\n",
            "123:\tlearn: 0.0720893\ttotal: 555ms\tremaining: 1.68s\n",
            "124:\tlearn: 0.0720371\ttotal: 558ms\tremaining: 1.68s\n",
            "125:\tlearn: 0.0719716\ttotal: 562ms\tremaining: 1.67s\n",
            "126:\tlearn: 0.0719445\ttotal: 566ms\tremaining: 1.66s\n",
            "127:\tlearn: 0.0719227\ttotal: 570ms\tremaining: 1.66s\n",
            "128:\tlearn: 0.0719090\ttotal: 573ms\tremaining: 1.65s\n",
            "129:\tlearn: 0.0718808\ttotal: 577ms\tremaining: 1.64s\n",
            "130:\tlearn: 0.0718461\ttotal: 581ms\tremaining: 1.64s\n",
            "131:\tlearn: 0.0718317\ttotal: 584ms\tremaining: 1.63s\n",
            "132:\tlearn: 0.0718112\ttotal: 588ms\tremaining: 1.62s\n",
            "133:\tlearn: 0.0717448\ttotal: 592ms\tremaining: 1.62s\n",
            "134:\tlearn: 0.0717159\ttotal: 596ms\tremaining: 1.61s\n",
            "135:\tlearn: 0.0716934\ttotal: 600ms\tremaining: 1.6s\n",
            "136:\tlearn: 0.0716866\ttotal: 603ms\tremaining: 1.6s\n",
            "137:\tlearn: 0.0716618\ttotal: 607ms\tremaining: 1.59s\n",
            "138:\tlearn: 0.0716402\ttotal: 610ms\tremaining: 1.58s\n",
            "139:\tlearn: 0.0716296\ttotal: 614ms\tremaining: 1.58s\n",
            "140:\tlearn: 0.0715898\ttotal: 618ms\tremaining: 1.57s\n",
            "141:\tlearn: 0.0715517\ttotal: 621ms\tremaining: 1.57s\n",
            "142:\tlearn: 0.0715107\ttotal: 625ms\tremaining: 1.56s\n",
            "143:\tlearn: 0.0714906\ttotal: 629ms\tremaining: 1.55s\n",
            "144:\tlearn: 0.0714483\ttotal: 633ms\tremaining: 1.55s\n",
            "145:\tlearn: 0.0714084\ttotal: 640ms\tremaining: 1.55s\n",
            "146:\tlearn: 0.0713749\ttotal: 643ms\tremaining: 1.54s\n",
            "147:\tlearn: 0.0713527\ttotal: 647ms\tremaining: 1.54s\n",
            "148:\tlearn: 0.0713353\ttotal: 650ms\tremaining: 1.53s\n",
            "149:\tlearn: 0.0713121\ttotal: 654ms\tremaining: 1.52s\n",
            "150:\tlearn: 0.0712996\ttotal: 658ms\tremaining: 1.52s\n",
            "151:\tlearn: 0.0712822\ttotal: 661ms\tremaining: 1.51s\n",
            "152:\tlearn: 0.0712635\ttotal: 666ms\tremaining: 1.51s\n",
            "153:\tlearn: 0.0712546\ttotal: 670ms\tremaining: 1.5s\n",
            "154:\tlearn: 0.0712214\ttotal: 674ms\tremaining: 1.5s\n",
            "155:\tlearn: 0.0712058\ttotal: 678ms\tremaining: 1.49s\n",
            "156:\tlearn: 0.0711934\ttotal: 681ms\tremaining: 1.49s\n",
            "157:\tlearn: 0.0711557\ttotal: 685ms\tremaining: 1.48s\n",
            "158:\tlearn: 0.0711351\ttotal: 689ms\tremaining: 1.48s\n",
            "159:\tlearn: 0.0710887\ttotal: 692ms\tremaining: 1.47s\n",
            "160:\tlearn: 0.0710802\ttotal: 696ms\tremaining: 1.46s\n",
            "161:\tlearn: 0.0710514\ttotal: 700ms\tremaining: 1.46s\n",
            "162:\tlearn: 0.0710328\ttotal: 703ms\tremaining: 1.45s\n",
            "163:\tlearn: 0.0710196\ttotal: 707ms\tremaining: 1.45s\n",
            "164:\tlearn: 0.0710041\ttotal: 711ms\tremaining: 1.44s\n",
            "165:\tlearn: 0.0709711\ttotal: 715ms\tremaining: 1.44s\n",
            "166:\tlearn: 0.0709465\ttotal: 719ms\tremaining: 1.43s\n",
            "167:\tlearn: 0.0709318\ttotal: 722ms\tremaining: 1.43s\n",
            "168:\tlearn: 0.0709047\ttotal: 727ms\tremaining: 1.42s\n",
            "169:\tlearn: 0.0708868\ttotal: 730ms\tremaining: 1.42s\n",
            "170:\tlearn: 0.0708745\ttotal: 734ms\tremaining: 1.41s\n",
            "171:\tlearn: 0.0708387\ttotal: 738ms\tremaining: 1.41s\n",
            "172:\tlearn: 0.0708176\ttotal: 741ms\tremaining: 1.4s\n",
            "173:\tlearn: 0.0707509\ttotal: 745ms\tremaining: 1.4s\n",
            "174:\tlearn: 0.0707130\ttotal: 750ms\tremaining: 1.39s\n",
            "175:\tlearn: 0.0706878\ttotal: 753ms\tremaining: 1.39s\n",
            "176:\tlearn: 0.0706489\ttotal: 757ms\tremaining: 1.38s\n",
            "177:\tlearn: 0.0706406\ttotal: 761ms\tremaining: 1.38s\n",
            "178:\tlearn: 0.0706150\ttotal: 765ms\tremaining: 1.37s\n",
            "179:\tlearn: 0.0706004\ttotal: 768ms\tremaining: 1.36s\n",
            "180:\tlearn: 0.0705908\ttotal: 772ms\tremaining: 1.36s\n",
            "181:\tlearn: 0.0705425\ttotal: 775ms\tremaining: 1.35s\n",
            "182:\tlearn: 0.0705310\ttotal: 779ms\tremaining: 1.35s\n",
            "183:\tlearn: 0.0704938\ttotal: 783ms\tremaining: 1.34s\n",
            "184:\tlearn: 0.0704320\ttotal: 787ms\tremaining: 1.34s\n",
            "185:\tlearn: 0.0704204\ttotal: 790ms\tremaining: 1.33s\n",
            "186:\tlearn: 0.0703990\ttotal: 794ms\tremaining: 1.33s\n",
            "187:\tlearn: 0.0703887\ttotal: 797ms\tremaining: 1.32s\n",
            "188:\tlearn: 0.0703777\ttotal: 801ms\tremaining: 1.32s\n",
            "189:\tlearn: 0.0703441\ttotal: 805ms\tremaining: 1.31s\n",
            "190:\tlearn: 0.0703163\ttotal: 809ms\tremaining: 1.31s\n",
            "191:\tlearn: 0.0703131\ttotal: 812ms\tremaining: 1.3s\n",
            "192:\tlearn: 0.0702670\ttotal: 816ms\tremaining: 1.3s\n",
            "193:\tlearn: 0.0702450\ttotal: 820ms\tremaining: 1.29s\n",
            "194:\tlearn: 0.0702318\ttotal: 823ms\tremaining: 1.29s\n",
            "195:\tlearn: 0.0702057\ttotal: 827ms\tremaining: 1.28s\n",
            "196:\tlearn: 0.0701958\ttotal: 834ms\tremaining: 1.28s\n",
            "197:\tlearn: 0.0701674\ttotal: 839ms\tremaining: 1.28s\n",
            "198:\tlearn: 0.0701274\ttotal: 843ms\tremaining: 1.27s\n",
            "199:\tlearn: 0.0701062\ttotal: 846ms\tremaining: 1.27s\n",
            "200:\tlearn: 0.0700698\ttotal: 850ms\tremaining: 1.26s\n",
            "201:\tlearn: 0.0700423\ttotal: 853ms\tremaining: 1.26s\n",
            "202:\tlearn: 0.0700233\ttotal: 857ms\tremaining: 1.25s\n",
            "203:\tlearn: 0.0699954\ttotal: 860ms\tremaining: 1.25s\n",
            "204:\tlearn: 0.0699657\ttotal: 866ms\tremaining: 1.25s\n",
            "205:\tlearn: 0.0699497\ttotal: 870ms\tremaining: 1.24s\n",
            "206:\tlearn: 0.0699344\ttotal: 874ms\tremaining: 1.24s\n",
            "207:\tlearn: 0.0699191\ttotal: 879ms\tremaining: 1.23s\n",
            "208:\tlearn: 0.0698790\ttotal: 883ms\tremaining: 1.23s\n",
            "209:\tlearn: 0.0698500\ttotal: 887ms\tremaining: 1.23s\n",
            "210:\tlearn: 0.0698111\ttotal: 891ms\tremaining: 1.22s\n",
            "211:\tlearn: 0.0697699\ttotal: 895ms\tremaining: 1.22s\n",
            "212:\tlearn: 0.0697696\ttotal: 898ms\tremaining: 1.21s\n",
            "213:\tlearn: 0.0697586\ttotal: 902ms\tremaining: 1.21s\n",
            "214:\tlearn: 0.0697372\ttotal: 906ms\tremaining: 1.2s\n",
            "215:\tlearn: 0.0696949\ttotal: 910ms\tremaining: 1.2s\n",
            "216:\tlearn: 0.0696634\ttotal: 914ms\tremaining: 1.19s\n",
            "217:\tlearn: 0.0696250\ttotal: 917ms\tremaining: 1.19s\n",
            "218:\tlearn: 0.0696044\ttotal: 921ms\tremaining: 1.18s\n",
            "219:\tlearn: 0.0695833\ttotal: 925ms\tremaining: 1.18s\n",
            "220:\tlearn: 0.0695495\ttotal: 929ms\tremaining: 1.17s\n",
            "221:\tlearn: 0.0695162\ttotal: 933ms\tremaining: 1.17s\n",
            "222:\tlearn: 0.0695016\ttotal: 936ms\tremaining: 1.16s\n",
            "223:\tlearn: 0.0695014\ttotal: 940ms\tremaining: 1.16s\n",
            "224:\tlearn: 0.0694819\ttotal: 943ms\tremaining: 1.15s\n",
            "225:\tlearn: 0.0694545\ttotal: 947ms\tremaining: 1.15s\n",
            "226:\tlearn: 0.0694144\ttotal: 951ms\tremaining: 1.14s\n",
            "227:\tlearn: 0.0694058\ttotal: 955ms\tremaining: 1.14s\n",
            "228:\tlearn: 0.0693648\ttotal: 959ms\tremaining: 1.13s\n",
            "229:\tlearn: 0.0693321\ttotal: 963ms\tremaining: 1.13s\n",
            "230:\tlearn: 0.0692900\ttotal: 967ms\tremaining: 1.13s\n",
            "231:\tlearn: 0.0692597\ttotal: 970ms\tremaining: 1.12s\n",
            "232:\tlearn: 0.0692346\ttotal: 974ms\tremaining: 1.12s\n",
            "233:\tlearn: 0.0692045\ttotal: 978ms\tremaining: 1.11s\n",
            "234:\tlearn: 0.0691688\ttotal: 982ms\tremaining: 1.11s\n",
            "235:\tlearn: 0.0691327\ttotal: 986ms\tremaining: 1.1s\n",
            "236:\tlearn: 0.0690932\ttotal: 990ms\tremaining: 1.1s\n",
            "237:\tlearn: 0.0690670\ttotal: 996ms\tremaining: 1.1s\n",
            "238:\tlearn: 0.0690667\ttotal: 999ms\tremaining: 1.09s\n",
            "239:\tlearn: 0.0690414\ttotal: 1s\tremaining: 1.09s\n",
            "240:\tlearn: 0.0690175\ttotal: 1.01s\tremaining: 1.08s\n",
            "241:\tlearn: 0.0689902\ttotal: 1.01s\tremaining: 1.08s\n",
            "242:\tlearn: 0.0689739\ttotal: 1.01s\tremaining: 1.07s\n",
            "243:\tlearn: 0.0689508\ttotal: 1.02s\tremaining: 1.07s\n",
            "244:\tlearn: 0.0689185\ttotal: 1.02s\tremaining: 1.06s\n",
            "245:\tlearn: 0.0688966\ttotal: 1.03s\tremaining: 1.06s\n",
            "246:\tlearn: 0.0688841\ttotal: 1.04s\tremaining: 1.06s\n",
            "247:\tlearn: 0.0688602\ttotal: 1.04s\tremaining: 1.06s\n",
            "248:\tlearn: 0.0688249\ttotal: 1.04s\tremaining: 1.05s\n",
            "249:\tlearn: 0.0688131\ttotal: 1.05s\tremaining: 1.05s\n",
            "250:\tlearn: 0.0687960\ttotal: 1.05s\tremaining: 1.04s\n",
            "251:\tlearn: 0.0687801\ttotal: 1.05s\tremaining: 1.04s\n",
            "252:\tlearn: 0.0687490\ttotal: 1.06s\tremaining: 1.03s\n",
            "253:\tlearn: 0.0687163\ttotal: 1.06s\tremaining: 1.03s\n",
            "254:\tlearn: 0.0686821\ttotal: 1.07s\tremaining: 1.02s\n",
            "255:\tlearn: 0.0686596\ttotal: 1.07s\tremaining: 1.02s\n",
            "256:\tlearn: 0.0686220\ttotal: 1.07s\tremaining: 1.01s\n",
            "257:\tlearn: 0.0686061\ttotal: 1.08s\tremaining: 1.01s\n",
            "258:\tlearn: 0.0685802\ttotal: 1.08s\tremaining: 1.01s\n",
            "259:\tlearn: 0.0685603\ttotal: 1.08s\tremaining: 1s\n",
            "260:\tlearn: 0.0685452\ttotal: 1.09s\tremaining: 997ms\n",
            "261:\tlearn: 0.0685319\ttotal: 1.09s\tremaining: 993ms\n",
            "262:\tlearn: 0.0684992\ttotal: 1.1s\tremaining: 988ms\n",
            "263:\tlearn: 0.0684764\ttotal: 1.1s\tremaining: 984ms\n",
            "264:\tlearn: 0.0684519\ttotal: 1.1s\tremaining: 979ms\n",
            "265:\tlearn: 0.0684243\ttotal: 1.11s\tremaining: 975ms\n",
            "266:\tlearn: 0.0683903\ttotal: 1.11s\tremaining: 970ms\n",
            "267:\tlearn: 0.0683789\ttotal: 1.11s\tremaining: 966ms\n",
            "268:\tlearn: 0.0683559\ttotal: 1.12s\tremaining: 961ms\n",
            "269:\tlearn: 0.0683263\ttotal: 1.12s\tremaining: 957ms\n",
            "270:\tlearn: 0.0683074\ttotal: 1.13s\tremaining: 955ms\n",
            "271:\tlearn: 0.0682787\ttotal: 1.14s\tremaining: 955ms\n",
            "272:\tlearn: 0.0682425\ttotal: 1.14s\tremaining: 952ms\n",
            "273:\tlearn: 0.0682175\ttotal: 1.15s\tremaining: 948ms\n",
            "274:\tlearn: 0.0681889\ttotal: 1.15s\tremaining: 943ms\n",
            "275:\tlearn: 0.0681543\ttotal: 1.16s\tremaining: 938ms\n",
            "276:\tlearn: 0.0681439\ttotal: 1.16s\tremaining: 934ms\n",
            "277:\tlearn: 0.0680947\ttotal: 1.16s\tremaining: 929ms\n",
            "278:\tlearn: 0.0680644\ttotal: 1.17s\tremaining: 925ms\n",
            "279:\tlearn: 0.0680232\ttotal: 1.17s\tremaining: 920ms\n",
            "280:\tlearn: 0.0679946\ttotal: 1.18s\tremaining: 916ms\n",
            "281:\tlearn: 0.0679747\ttotal: 1.18s\tremaining: 911ms\n",
            "282:\tlearn: 0.0679553\ttotal: 1.18s\tremaining: 907ms\n",
            "283:\tlearn: 0.0679052\ttotal: 1.19s\tremaining: 903ms\n",
            "284:\tlearn: 0.0678819\ttotal: 1.19s\tremaining: 898ms\n",
            "285:\tlearn: 0.0678660\ttotal: 1.19s\tremaining: 894ms\n",
            "286:\tlearn: 0.0678397\ttotal: 1.2s\tremaining: 889ms\n",
            "287:\tlearn: 0.0678114\ttotal: 1.2s\tremaining: 885ms\n",
            "288:\tlearn: 0.0677661\ttotal: 1.21s\tremaining: 880ms\n",
            "289:\tlearn: 0.0677347\ttotal: 1.21s\tremaining: 876ms\n",
            "290:\tlearn: 0.0677107\ttotal: 1.21s\tremaining: 872ms\n",
            "291:\tlearn: 0.0676948\ttotal: 1.22s\tremaining: 867ms\n",
            "292:\tlearn: 0.0676841\ttotal: 1.22s\tremaining: 863ms\n",
            "293:\tlearn: 0.0676673\ttotal: 1.23s\tremaining: 862ms\n",
            "294:\tlearn: 0.0676600\ttotal: 1.24s\tremaining: 861ms\n",
            "295:\tlearn: 0.0676379\ttotal: 1.25s\tremaining: 860ms\n",
            "296:\tlearn: 0.0675985\ttotal: 1.25s\tremaining: 856ms\n",
            "297:\tlearn: 0.0675727\ttotal: 1.25s\tremaining: 851ms\n",
            "298:\tlearn: 0.0675487\ttotal: 1.26s\tremaining: 847ms\n",
            "299:\tlearn: 0.0675289\ttotal: 1.26s\tremaining: 842ms\n",
            "300:\tlearn: 0.0674945\ttotal: 1.27s\tremaining: 838ms\n",
            "301:\tlearn: 0.0674763\ttotal: 1.27s\tremaining: 833ms\n",
            "302:\tlearn: 0.0674549\ttotal: 1.27s\tremaining: 829ms\n",
            "303:\tlearn: 0.0674329\ttotal: 1.28s\tremaining: 825ms\n",
            "304:\tlearn: 0.0674231\ttotal: 1.28s\tremaining: 820ms\n",
            "305:\tlearn: 0.0674125\ttotal: 1.28s\tremaining: 815ms\n",
            "306:\tlearn: 0.0674014\ttotal: 1.29s\tremaining: 811ms\n",
            "307:\tlearn: 0.0673650\ttotal: 1.29s\tremaining: 806ms\n",
            "308:\tlearn: 0.0673438\ttotal: 1.3s\tremaining: 801ms\n",
            "309:\tlearn: 0.0673215\ttotal: 1.3s\tremaining: 797ms\n",
            "310:\tlearn: 0.0672981\ttotal: 1.3s\tremaining: 793ms\n",
            "311:\tlearn: 0.0672717\ttotal: 1.31s\tremaining: 788ms\n",
            "312:\tlearn: 0.0672471\ttotal: 1.31s\tremaining: 784ms\n",
            "313:\tlearn: 0.0672363\ttotal: 1.32s\tremaining: 780ms\n",
            "314:\tlearn: 0.0672209\ttotal: 1.32s\tremaining: 775ms\n",
            "315:\tlearn: 0.0672040\ttotal: 1.32s\tremaining: 771ms\n",
            "316:\tlearn: 0.0671793\ttotal: 1.33s\tremaining: 766ms\n",
            "317:\tlearn: 0.0671690\ttotal: 1.33s\tremaining: 762ms\n",
            "318:\tlearn: 0.0671620\ttotal: 1.33s\tremaining: 757ms\n",
            "319:\tlearn: 0.0671505\ttotal: 1.34s\tremaining: 753ms\n",
            "320:\tlearn: 0.0671422\ttotal: 1.34s\tremaining: 748ms\n",
            "321:\tlearn: 0.0671373\ttotal: 1.34s\tremaining: 744ms\n",
            "322:\tlearn: 0.0671093\ttotal: 1.35s\tremaining: 740ms\n",
            "323:\tlearn: 0.0670821\ttotal: 1.35s\tremaining: 735ms\n",
            "324:\tlearn: 0.0670445\ttotal: 1.36s\tremaining: 731ms\n",
            "325:\tlearn: 0.0670094\ttotal: 1.36s\tremaining: 727ms\n",
            "326:\tlearn: 0.0669831\ttotal: 1.36s\tremaining: 722ms\n",
            "327:\tlearn: 0.0669627\ttotal: 1.37s\tremaining: 719ms\n",
            "328:\tlearn: 0.0669553\ttotal: 1.37s\tremaining: 715ms\n",
            "329:\tlearn: 0.0669250\ttotal: 1.38s\tremaining: 712ms\n",
            "330:\tlearn: 0.0668995\ttotal: 1.39s\tremaining: 707ms\n",
            "331:\tlearn: 0.0668833\ttotal: 1.39s\tremaining: 703ms\n",
            "332:\tlearn: 0.0668678\ttotal: 1.39s\tremaining: 699ms\n",
            "333:\tlearn: 0.0668469\ttotal: 1.4s\tremaining: 694ms\n",
            "334:\tlearn: 0.0668209\ttotal: 1.4s\tremaining: 690ms\n",
            "335:\tlearn: 0.0668118\ttotal: 1.4s\tremaining: 686ms\n",
            "336:\tlearn: 0.0667849\ttotal: 1.41s\tremaining: 681ms\n",
            "337:\tlearn: 0.0667775\ttotal: 1.41s\tremaining: 677ms\n",
            "338:\tlearn: 0.0667680\ttotal: 1.42s\tremaining: 672ms\n",
            "339:\tlearn: 0.0667511\ttotal: 1.42s\tremaining: 668ms\n",
            "340:\tlearn: 0.0667084\ttotal: 1.43s\tremaining: 665ms\n",
            "341:\tlearn: 0.0666947\ttotal: 1.43s\tremaining: 661ms\n",
            "342:\tlearn: 0.0666806\ttotal: 1.44s\tremaining: 657ms\n",
            "343:\tlearn: 0.0666422\ttotal: 1.44s\tremaining: 653ms\n",
            "344:\tlearn: 0.0666184\ttotal: 1.44s\tremaining: 648ms\n",
            "345:\tlearn: 0.0665982\ttotal: 1.45s\tremaining: 644ms\n",
            "346:\tlearn: 0.0665826\ttotal: 1.45s\tremaining: 639ms\n",
            "347:\tlearn: 0.0665659\ttotal: 1.45s\tremaining: 635ms\n",
            "348:\tlearn: 0.0665447\ttotal: 1.46s\tremaining: 631ms\n",
            "349:\tlearn: 0.0665198\ttotal: 1.46s\tremaining: 626ms\n",
            "350:\tlearn: 0.0664898\ttotal: 1.46s\tremaining: 622ms\n",
            "351:\tlearn: 0.0664664\ttotal: 1.47s\tremaining: 617ms\n",
            "352:\tlearn: 0.0664499\ttotal: 1.47s\tremaining: 613ms\n",
            "353:\tlearn: 0.0664443\ttotal: 1.48s\tremaining: 609ms\n",
            "354:\tlearn: 0.0664332\ttotal: 1.48s\tremaining: 604ms\n",
            "355:\tlearn: 0.0664070\ttotal: 1.48s\tremaining: 600ms\n",
            "356:\tlearn: 0.0663793\ttotal: 1.49s\tremaining: 596ms\n",
            "357:\tlearn: 0.0663742\ttotal: 1.49s\tremaining: 591ms\n",
            "358:\tlearn: 0.0663579\ttotal: 1.49s\tremaining: 587ms\n",
            "359:\tlearn: 0.0663213\ttotal: 1.5s\tremaining: 583ms\n",
            "360:\tlearn: 0.0662956\ttotal: 1.5s\tremaining: 578ms\n",
            "361:\tlearn: 0.0662824\ttotal: 1.51s\tremaining: 574ms\n",
            "362:\tlearn: 0.0662777\ttotal: 1.51s\tremaining: 570ms\n",
            "363:\tlearn: 0.0662361\ttotal: 1.51s\tremaining: 565ms\n",
            "364:\tlearn: 0.0662098\ttotal: 1.52s\tremaining: 561ms\n",
            "365:\tlearn: 0.0661850\ttotal: 1.52s\tremaining: 557ms\n",
            "366:\tlearn: 0.0661686\ttotal: 1.52s\tremaining: 553ms\n",
            "367:\tlearn: 0.0661437\ttotal: 1.53s\tremaining: 548ms\n",
            "368:\tlearn: 0.0661262\ttotal: 1.53s\tremaining: 544ms\n",
            "369:\tlearn: 0.0661236\ttotal: 1.54s\tremaining: 540ms\n",
            "370:\tlearn: 0.0660993\ttotal: 1.54s\tremaining: 535ms\n",
            "371:\tlearn: 0.0660738\ttotal: 1.54s\tremaining: 531ms\n",
            "372:\tlearn: 0.0660595\ttotal: 1.55s\tremaining: 527ms\n",
            "373:\tlearn: 0.0660534\ttotal: 1.55s\tremaining: 523ms\n",
            "374:\tlearn: 0.0660510\ttotal: 1.55s\tremaining: 518ms\n",
            "375:\tlearn: 0.0660189\ttotal: 1.56s\tremaining: 514ms\n",
            "376:\tlearn: 0.0659903\ttotal: 1.56s\tremaining: 510ms\n",
            "377:\tlearn: 0.0659694\ttotal: 1.57s\tremaining: 506ms\n",
            "378:\tlearn: 0.0659597\ttotal: 1.57s\tremaining: 502ms\n",
            "379:\tlearn: 0.0659214\ttotal: 1.57s\tremaining: 498ms\n",
            "380:\tlearn: 0.0659095\ttotal: 1.58s\tremaining: 493ms\n",
            "381:\tlearn: 0.0658787\ttotal: 1.58s\tremaining: 489ms\n",
            "382:\tlearn: 0.0658601\ttotal: 1.59s\tremaining: 485ms\n",
            "383:\tlearn: 0.0658517\ttotal: 1.59s\tremaining: 480ms\n",
            "384:\tlearn: 0.0658188\ttotal: 1.59s\tremaining: 476ms\n",
            "385:\tlearn: 0.0658064\ttotal: 1.6s\tremaining: 472ms\n",
            "386:\tlearn: 0.0658001\ttotal: 1.6s\tremaining: 468ms\n",
            "387:\tlearn: 0.0657929\ttotal: 1.6s\tremaining: 463ms\n",
            "388:\tlearn: 0.0657792\ttotal: 1.61s\tremaining: 459ms\n",
            "389:\tlearn: 0.0657348\ttotal: 1.61s\tremaining: 455ms\n",
            "390:\tlearn: 0.0657199\ttotal: 1.62s\tremaining: 451ms\n",
            "391:\tlearn: 0.0656939\ttotal: 1.63s\tremaining: 448ms\n",
            "392:\tlearn: 0.0656830\ttotal: 1.63s\tremaining: 444ms\n",
            "393:\tlearn: 0.0656668\ttotal: 1.63s\tremaining: 439ms\n",
            "394:\tlearn: 0.0656412\ttotal: 1.64s\tremaining: 435ms\n",
            "395:\tlearn: 0.0656346\ttotal: 1.64s\tremaining: 431ms\n",
            "396:\tlearn: 0.0656157\ttotal: 1.64s\tremaining: 427ms\n",
            "397:\tlearn: 0.0656027\ttotal: 1.65s\tremaining: 422ms\n",
            "398:\tlearn: 0.0655754\ttotal: 1.65s\tremaining: 418ms\n",
            "399:\tlearn: 0.0655644\ttotal: 1.66s\tremaining: 414ms\n",
            "400:\tlearn: 0.0655594\ttotal: 1.66s\tremaining: 410ms\n",
            "401:\tlearn: 0.0655485\ttotal: 1.66s\tremaining: 406ms\n",
            "402:\tlearn: 0.0655422\ttotal: 1.67s\tremaining: 401ms\n",
            "403:\tlearn: 0.0655299\ttotal: 1.67s\tremaining: 397ms\n",
            "404:\tlearn: 0.0655190\ttotal: 1.67s\tremaining: 393ms\n",
            "405:\tlearn: 0.0655104\ttotal: 1.68s\tremaining: 389ms\n",
            "406:\tlearn: 0.0654890\ttotal: 1.68s\tremaining: 384ms\n",
            "407:\tlearn: 0.0654613\ttotal: 1.69s\tremaining: 380ms\n",
            "408:\tlearn: 0.0654514\ttotal: 1.69s\tremaining: 376ms\n",
            "409:\tlearn: 0.0654433\ttotal: 1.69s\tremaining: 372ms\n",
            "410:\tlearn: 0.0654188\ttotal: 1.7s\tremaining: 368ms\n",
            "411:\tlearn: 0.0654058\ttotal: 1.7s\tremaining: 363ms\n",
            "412:\tlearn: 0.0653815\ttotal: 1.71s\tremaining: 359ms\n",
            "413:\tlearn: 0.0653552\ttotal: 1.71s\tremaining: 355ms\n",
            "414:\tlearn: 0.0653286\ttotal: 1.71s\tremaining: 351ms\n",
            "415:\tlearn: 0.0653188\ttotal: 1.72s\tremaining: 347ms\n",
            "416:\tlearn: 0.0652988\ttotal: 1.72s\tremaining: 343ms\n",
            "417:\tlearn: 0.0652786\ttotal: 1.72s\tremaining: 338ms\n",
            "418:\tlearn: 0.0652209\ttotal: 1.73s\tremaining: 334ms\n",
            "419:\tlearn: 0.0652117\ttotal: 1.73s\tremaining: 330ms\n",
            "420:\tlearn: 0.0652043\ttotal: 1.74s\tremaining: 326ms\n",
            "421:\tlearn: 0.0651808\ttotal: 1.74s\tremaining: 322ms\n",
            "422:\tlearn: 0.0651731\ttotal: 1.74s\tremaining: 317ms\n",
            "423:\tlearn: 0.0651587\ttotal: 1.75s\tremaining: 313ms\n",
            "424:\tlearn: 0.0651397\ttotal: 1.75s\tremaining: 309ms\n",
            "425:\tlearn: 0.0650916\ttotal: 1.75s\tremaining: 305ms\n",
            "426:\tlearn: 0.0650740\ttotal: 1.76s\tremaining: 301ms\n",
            "427:\tlearn: 0.0650522\ttotal: 1.76s\tremaining: 297ms\n",
            "428:\tlearn: 0.0650436\ttotal: 1.77s\tremaining: 292ms\n",
            "429:\tlearn: 0.0650271\ttotal: 1.77s\tremaining: 288ms\n",
            "430:\tlearn: 0.0650050\ttotal: 1.77s\tremaining: 284ms\n",
            "431:\tlearn: 0.0649917\ttotal: 1.78s\tremaining: 280ms\n",
            "432:\tlearn: 0.0649655\ttotal: 1.78s\tremaining: 276ms\n",
            "433:\tlearn: 0.0649595\ttotal: 1.78s\tremaining: 272ms\n",
            "434:\tlearn: 0.0649504\ttotal: 1.79s\tremaining: 267ms\n",
            "435:\tlearn: 0.0649383\ttotal: 1.79s\tremaining: 263ms\n",
            "436:\tlearn: 0.0649302\ttotal: 1.8s\tremaining: 259ms\n",
            "437:\tlearn: 0.0649101\ttotal: 1.8s\tremaining: 255ms\n",
            "438:\tlearn: 0.0648882\ttotal: 1.81s\tremaining: 251ms\n",
            "439:\tlearn: 0.0648606\ttotal: 1.81s\tremaining: 247ms\n",
            "440:\tlearn: 0.0648435\ttotal: 1.81s\tremaining: 243ms\n",
            "441:\tlearn: 0.0648357\ttotal: 1.82s\tremaining: 239ms\n",
            "442:\tlearn: 0.0648309\ttotal: 1.83s\tremaining: 235ms\n",
            "443:\tlearn: 0.0648192\ttotal: 1.83s\tremaining: 231ms\n",
            "444:\tlearn: 0.0647997\ttotal: 1.83s\tremaining: 227ms\n",
            "445:\tlearn: 0.0647583\ttotal: 1.84s\tremaining: 223ms\n",
            "446:\tlearn: 0.0647461\ttotal: 1.84s\tremaining: 218ms\n",
            "447:\tlearn: 0.0647302\ttotal: 1.84s\tremaining: 214ms\n",
            "448:\tlearn: 0.0647271\ttotal: 1.85s\tremaining: 210ms\n",
            "449:\tlearn: 0.0646940\ttotal: 1.85s\tremaining: 206ms\n",
            "450:\tlearn: 0.0646864\ttotal: 1.86s\tremaining: 202ms\n",
            "451:\tlearn: 0.0646764\ttotal: 1.86s\tremaining: 198ms\n",
            "452:\tlearn: 0.0646558\ttotal: 1.87s\tremaining: 194ms\n",
            "453:\tlearn: 0.0646432\ttotal: 1.87s\tremaining: 190ms\n",
            "454:\tlearn: 0.0646408\ttotal: 1.87s\tremaining: 185ms\n",
            "455:\tlearn: 0.0646172\ttotal: 1.88s\tremaining: 181ms\n",
            "456:\tlearn: 0.0645887\ttotal: 1.88s\tremaining: 177ms\n",
            "457:\tlearn: 0.0645733\ttotal: 1.89s\tremaining: 173ms\n",
            "458:\tlearn: 0.0645646\ttotal: 1.89s\tremaining: 169ms\n",
            "459:\tlearn: 0.0645368\ttotal: 1.89s\tremaining: 165ms\n",
            "460:\tlearn: 0.0645202\ttotal: 1.9s\tremaining: 161ms\n",
            "461:\tlearn: 0.0644882\ttotal: 1.9s\tremaining: 156ms\n",
            "462:\tlearn: 0.0644738\ttotal: 1.91s\tremaining: 152ms\n",
            "463:\tlearn: 0.0644559\ttotal: 1.91s\tremaining: 148ms\n",
            "464:\tlearn: 0.0644425\ttotal: 1.91s\tremaining: 144ms\n",
            "465:\tlearn: 0.0644233\ttotal: 1.92s\tremaining: 140ms\n",
            "466:\tlearn: 0.0644123\ttotal: 1.92s\tremaining: 136ms\n",
            "467:\tlearn: 0.0643989\ttotal: 1.92s\tremaining: 132ms\n",
            "468:\tlearn: 0.0643870\ttotal: 1.93s\tremaining: 127ms\n",
            "469:\tlearn: 0.0643751\ttotal: 1.93s\tremaining: 123ms\n",
            "470:\tlearn: 0.0643613\ttotal: 1.94s\tremaining: 119ms\n",
            "471:\tlearn: 0.0643364\ttotal: 1.94s\tremaining: 115ms\n",
            "472:\tlearn: 0.0643058\ttotal: 1.94s\tremaining: 111ms\n",
            "473:\tlearn: 0.0642877\ttotal: 1.95s\tremaining: 107ms\n",
            "474:\tlearn: 0.0642739\ttotal: 1.95s\tremaining: 103ms\n",
            "475:\tlearn: 0.0642519\ttotal: 1.96s\tremaining: 98.6ms\n",
            "476:\tlearn: 0.0642482\ttotal: 1.96s\tremaining: 94.5ms\n",
            "477:\tlearn: 0.0642269\ttotal: 1.96s\tremaining: 90.4ms\n",
            "478:\tlearn: 0.0642117\ttotal: 1.97s\tremaining: 86.2ms\n",
            "479:\tlearn: 0.0642022\ttotal: 1.97s\tremaining: 82.1ms\n",
            "480:\tlearn: 0.0641853\ttotal: 1.97s\tremaining: 78ms\n",
            "481:\tlearn: 0.0641631\ttotal: 1.98s\tremaining: 73.9ms\n",
            "482:\tlearn: 0.0641432\ttotal: 1.98s\tremaining: 69.8ms\n",
            "483:\tlearn: 0.0641371\ttotal: 1.99s\tremaining: 65.7ms\n",
            "484:\tlearn: 0.0641257\ttotal: 1.99s\tremaining: 61.5ms\n",
            "485:\tlearn: 0.0641077\ttotal: 1.99s\tremaining: 57.4ms\n",
            "486:\tlearn: 0.0640959\ttotal: 2s\tremaining: 53.3ms\n",
            "487:\tlearn: 0.0640838\ttotal: 2s\tremaining: 49.2ms\n",
            "488:\tlearn: 0.0640735\ttotal: 2s\tremaining: 45.1ms\n",
            "489:\tlearn: 0.0640352\ttotal: 2.01s\tremaining: 41ms\n",
            "490:\tlearn: 0.0640301\ttotal: 2.01s\tremaining: 36.9ms\n",
            "491:\tlearn: 0.0640164\ttotal: 2.02s\tremaining: 32.8ms\n",
            "492:\tlearn: 0.0639986\ttotal: 2.02s\tremaining: 28.7ms\n",
            "493:\tlearn: 0.0639866\ttotal: 2.03s\tremaining: 24.6ms\n",
            "494:\tlearn: 0.0639544\ttotal: 2.03s\tremaining: 20.5ms\n",
            "495:\tlearn: 0.0639370\ttotal: 2.03s\tremaining: 16.4ms\n",
            "496:\tlearn: 0.0639064\ttotal: 2.04s\tremaining: 12.3ms\n",
            "497:\tlearn: 0.0638982\ttotal: 2.04s\tremaining: 8.2ms\n",
            "498:\tlearn: 0.0638824\ttotal: 2.05s\tremaining: 4.1ms\n",
            "499:\tlearn: 0.0638628\ttotal: 2.05s\tremaining: 0us\n",
            "Mean Squared Error: 0.005216032189904096\n",
            "RMSE: 0.07222210319496446\n",
            "MAE: 0.03434473509610558\n",
            "R-squared: 0.6328565948990766\n",
            "MAPE: 10.511095797622543\n"
          ]
        }
      ]
    },
    {
      "cell_type": "markdown",
      "source": [],
      "metadata": {
        "id": "yDGTPdkez1Su"
      }
    },
    {
      "cell_type": "markdown",
      "source": [
        "XGBoost"
      ],
      "metadata": {
        "id": "OxFIksg5z52b"
      }
    },
    {
      "cell_type": "code",
      "source": [
        "import xgboost as xgb\n",
        "from sklearn.metrics import mean_squared_error, mean_absolute_error, r2_score\n",
        "\n",
        "# Create an XGBoost regression model\n",
        "model = xgb.XGBRegressor(learning_rate=0.1, n_estimators=100, max_depth=6)\n",
        "\n",
        "# Train the model on the training data\n",
        "model.fit(X_train, y_train)\n",
        "\n",
        "# Make predictions on the testing data\n",
        "y_pred = model.predict(X_test)\n",
        "\n",
        "# Calculate the mean squared error (MSE)\n",
        "mse = mean_squared_error(y_test, y_pred)\n",
        "\n",
        "# Print the MSE\n",
        "print(\"Mean Squared Error:\", mse)\n",
        "\n",
        "# Calculate the root mean squared error (RMSE)\n",
        "rmse_score = np.sqrt(mse)\n",
        "print(\"RMSE:\", rmse_score)\n",
        "\n",
        "# Calculate the mean absolute error (MAE)\n",
        "mae_score = mean_absolute_error(y_test, y_pred)\n",
        "print(\"MAE:\", mae_score)\n",
        "\n",
        "# Calculate the R-squared (Coefficient of Determination)\n",
        "r2_score = r2_score(y_test, y_pred)\n",
        "print(\"R-squared:\", r2_score)\n",
        "\n",
        "# Calculate the Mean Absolute Percentage Error (MAPE) if you have defined it in \"eva_per\" module\n",
        "mape_score = eva_per.mape(y_test, y_pred)\n",
        "print(\"MAPE:\", mape_score)\n"
      ],
      "metadata": {
        "colab": {
          "base_uri": "https://localhost:8080/"
        },
        "id": "aTDCBtUGzxWP",
        "outputId": "98b3c0e3-53e9-406c-a868-29d7b544769d"
      },
      "execution_count": null,
      "outputs": [
        {
          "output_type": "stream",
          "name": "stdout",
          "text": [
            "Mean Squared Error: 0.005203547072088393\n",
            "RMSE: 0.07213561583634254\n",
            "MAE: 0.03382465987839775\n",
            "R-squared: 0.6337353909841191\n",
            "MAPE: 10.24296882340881\n"
          ]
        }
      ]
    },
    {
      "cell_type": "markdown",
      "source": [
        "# **KNN**"
      ],
      "metadata": {
        "id": "jIc50KvYwuAB"
      }
    },
    {
      "cell_type": "code",
      "source": [
        "from sklearn.neighbors import KNeighborsRegressor"
      ],
      "metadata": {
        "id": "oSr168gixDQ5"
      },
      "execution_count": null,
      "outputs": []
    },
    {
      "cell_type": "code",
      "source": [
        "# Create an instance of KNeighborsRegressor\n",
        "knn_model = KNeighborsRegressor(n_neighbors=5)  # You can adjust n_neighbors\n",
        "\n",
        "# Train the KNN model\n",
        "knn_model.fit(X_train, y_train)\n",
        "\n",
        "# Predict on the test set\n",
        "y_pred = knn_model.predict(X_test)\n",
        "\n",
        "# Calculate the mean squared error (MSE)\n",
        "mse = eva_per.mean_sqaure(y_test, y_pred)\n",
        "\n",
        "# Print the MSE\n",
        "print(\"Mean Squared Error:\", mse)\n",
        "\n",
        "\n",
        "#calculate the rmse score\n",
        "rmse_score =eva_per.rmse(y_test, y_pred)\n",
        "print(\"RMSE:\", rmse_score)\n",
        "\n",
        "mae_score = eva_per.mae(y_test, y_pred)\n",
        "print(\"MAE:\", mae_score)\n",
        "\n",
        "r2_score = eva_per.r_squared(y_test, y_pred)\n",
        "print(\"R-squared:\", r2_score)\n",
        "\n",
        "\n",
        "mape_score = eva_per.mape(y_test, y_pred)\n",
        "print(\"MAPE:\", mape_score)\n",
        "\n"
      ],
      "metadata": {
        "colab": {
          "base_uri": "https://localhost:8080/"
        },
        "id": "0OJdvD7Rwyx4",
        "outputId": "d0608ae1-36d8-4536-8797-15a1b6b23104"
      },
      "execution_count": null,
      "outputs": [
        {
          "output_type": "stream",
          "name": "stdout",
          "text": [
            "Mean Squared Error: 0.006564933429852966\n",
            "RMSE: 0.08102427679314989\n",
            "MAE: 0.035596309298812544\n",
            "R-squared: 0.5379108245608013\n",
            "MAPE: 10.710357593420737\n"
          ]
        }
      ]
    },
    {
      "cell_type": "markdown",
      "source": [
        "# **Without considering GeneSymbol**"
      ],
      "metadata": {
        "id": "8_5us-UAIxND"
      }
    },
    {
      "cell_type": "code",
      "source": [
        "X = shuffled_data[['geneId', 'AlteredExpression', 'Biomarker', 'GeneticVariation', 'PostTranslationalModification',\n",
        "          'Therapeutic', 'diseaseId', 'NumberOfPubmeds']]\n",
        "y = shuffled_data['score']\n",
        "\n",
        "#  (70% training, 30% test)\n",
        "X_train, X_test, y_train, y_test = train_test_split(X, y, test_size=0.3, random_state=42)"
      ],
      "metadata": {
        "id": "BjM6zT1TI6LC"
      },
      "execution_count": null,
      "outputs": []
    },
    {
      "cell_type": "markdown",
      "source": [
        "# **Linear Regression Without Gene symbol**"
      ],
      "metadata": {
        "id": "osq_ngUEJKLr"
      }
    },
    {
      "cell_type": "code",
      "source": [
        "model = LinearRegression()\n",
        "model.fit(X_train, y_train)\n",
        "\n",
        "y_pred = model.predict(X_test)\n",
        "\n",
        "# Calculate the mean squared error (MSE)\n",
        "mse = eva_per.mean_sqaure(y_test, y_pred)\n",
        "\n",
        "# Print the MSE\n",
        "print(\"Mean Squared Error:\", mse)\n",
        "\n",
        "\n",
        "#calculate the rmse score\n",
        "rmse_score =eva_per.rmse(y_test, y_pred)\n",
        "print(\"RMSE:\", rmse_score)\n",
        "\n",
        "mae_score = eva_per.mae(y_test, y_pred)\n",
        "print(\"MAE:\", mae_score)\n",
        "\n",
        "r2_score = eva_per.r_squared(y_test, y_pred)\n",
        "print(\"R-squared:\", r2_score)\n",
        "\n",
        "\n",
        "mape_score = eva_per.mape(y_test, y_pred)\n",
        "print(\"MAPE:\", mape_score)"
      ],
      "metadata": {
        "colab": {
          "base_uri": "https://localhost:8080/"
        },
        "id": "BfuIulBYJSyf",
        "outputId": "b1282275-ca4d-436f-9744-d0d2910740aa"
      },
      "execution_count": null,
      "outputs": [
        {
          "output_type": "stream",
          "name": "stdout",
          "text": [
            "Mean Squared Error: 0.010146011926786847\n",
            "RMSE: 0.10072741397845399\n",
            "MAE: 0.06892761320803799\n",
            "R-squared: 0.305948174887147\n",
            "MAPE: 32.139081597090154\n"
          ]
        }
      ]
    },
    {
      "cell_type": "markdown",
      "source": [],
      "metadata": {
        "id": "9Njh4t_EJqnR"
      }
    },
    {
      "cell_type": "markdown",
      "source": [
        "# **Decision Tree Regressior Without GeneSymbol**"
      ],
      "metadata": {
        "id": "qoQxcOLeJxYZ"
      }
    },
    {
      "cell_type": "code",
      "source": [
        "model = DecisionTreeRegressor(random_state=42)\n",
        "model.fit(X_train, y_train)\n",
        "\n",
        "# Step 4: Make predictions\n",
        "y_pred = model.predict(X_test)\n",
        "\n",
        "\n",
        "# Calculate the mean squared error (MSE)\n",
        "mse = eva_per.mean_sqaure(y_test, y_pred)\n",
        "\n",
        "# Print the MSE\n",
        "print(\"Mean Squared Error:\", mse)\n",
        "\n",
        "\n",
        "#calculate the rmse score\n",
        "rmse_score =eva_per.rmse(y_test, y_pred)\n",
        "print(\"RMSE:\", rmse_score)\n",
        "\n",
        "mae_score = eva_per.mae(y_test, y_pred)\n",
        "print(\"MAE:\", mae_score)\n",
        "\n",
        "r2_score = eva_per.r_squared(y_test, y_pred)\n",
        "print(\"R-squared:\", r2_score)\n",
        "\n",
        "\n",
        "mape_score = eva_per.mape(y_test, y_pred)\n",
        "print(\"MAPE:\", mape_score)"
      ],
      "metadata": {
        "colab": {
          "base_uri": "https://localhost:8080/"
        },
        "id": "uweZP-m3Jp_j",
        "outputId": "999e8f9c-b91d-49b8-8774-28d3e6ec2b61"
      },
      "execution_count": null,
      "outputs": [
        {
          "output_type": "stream",
          "name": "stdout",
          "text": [
            "Mean Squared Error: 0.01073009449313844\n",
            "RMSE: 0.10358616941048858\n",
            "MAE: 0.046620518429438956\n",
            "R-squared: 0.26599320793873893\n",
            "MAPE: 19.72682896375548\n"
          ]
        }
      ]
    },
    {
      "cell_type": "markdown",
      "source": [
        "# **Random Forest Regressor Without GeneSymbol**"
      ],
      "metadata": {
        "id": "yAh_kgpbKQAj"
      }
    },
    {
      "cell_type": "code",
      "source": [
        "model = RandomForestRegressor()\n",
        "\n",
        "# Train the model on the training data\n",
        "model.fit(X_train, y_train)\n",
        "\n",
        "# Make predictions on the testing data\n",
        "y_pred = model.predict(X_test)\n",
        "\n",
        "# Make predictions on the testing data\n",
        "y_pred = model.predict(X_test)\n",
        "\n",
        "# Calculate the mean squared error (MSE)\n",
        "mse = eva_per.mean_sqaure(y_test, y_pred)\n",
        "\n",
        "# Print the MSE\n",
        "print(\"Mean Squared Error:\", mse)\n",
        "\n",
        "\n",
        "#calculate the rmse score\n",
        "rmse_score =eva_per.rmse(y_test, y_pred)\n",
        "print(\"RMSE:\", rmse_score)\n",
        "\n",
        "mae_score = eva_per.mae(y_test, y_pred)\n",
        "print(\"MAE:\", mae_score)\n",
        "\n",
        "r2_score = eva_per.r_squared(y_test, y_pred)\n",
        "print(\"R-squared:\", r2_score)\n",
        "\n",
        "\n",
        "mape_score = eva_per.mape(y_test, y_pred)\n",
        "print(\"MAPE:\", mape_score)"
      ],
      "metadata": {
        "colab": {
          "base_uri": "https://localhost:8080/"
        },
        "id": "33SA_RhRKPHc",
        "outputId": "663fb8f6-76de-4dd5-c3e4-de76b5588318"
      },
      "execution_count": null,
      "outputs": [
        {
          "output_type": "stream",
          "name": "stdout",
          "text": [
            "Mean Squared Error: 0.005915783513047214\n",
            "RMSE: 0.07691413077612731\n",
            "MAE: 0.03972675047191278\n",
            "R-squared: 0.5953227362799647\n",
            "MAPE: 17.62400587939234\n"
          ]
        }
      ]
    },
    {
      "cell_type": "markdown",
      "source": [
        "# **Gradient Boosting Regressor**"
      ],
      "metadata": {
        "id": "notp8Q7oKskb"
      }
    },
    {
      "cell_type": "code",
      "source": [
        "model = GradientBoostingRegressor(random_state=42)\n",
        "model.fit(X_train, y_train)\n",
        "\n",
        "# Step 4: Make predictions\n",
        "y_pred = model.predict(X_test)\n",
        "\n",
        "# Calculate the mean squared error (MSE)\n",
        "mse = eva_per.mean_sqaure(y_test, y_pred)\n",
        "\n",
        "# Print the MSE\n",
        "print(\"Mean Squared Error:\", mse)\n",
        "\n",
        "\n",
        "#calculate the rmse score\n",
        "rmse_score =eva_per.rmse(y_test, y_pred)\n",
        "print(\"RMSE:\", rmse_score)\n",
        "\n",
        "mae_score = eva_per.mae(y_test, y_pred)\n",
        "print(\"MAE:\", mae_score)\n",
        "\n",
        "r2_score = eva_per.r_squared(y_test, y_pred)\n",
        "print(\"R-squared:\", r2_score)\n",
        "\n",
        "\n",
        "mape_score = eva_per.mape(y_test, y_pred)\n",
        "print(\"MAPE:\", mape_score)\n"
      ],
      "metadata": {
        "colab": {
          "base_uri": "https://localhost:8080/"
        },
        "id": "dASV5IbAKyKa",
        "outputId": "b289c18a-7938-4ec8-fdc9-dd632d5077fe"
      },
      "execution_count": null,
      "outputs": [
        {
          "output_type": "stream",
          "name": "stdout",
          "text": [
            "Mean Squared Error: 0.006294938104238987\n",
            "RMSE: 0.07934064597820582\n",
            "MAE: 0.04568531089467025\n",
            "R-squared: 0.5693861478040723\n",
            "MAPE: 21.69098520093128\n"
          ]
        }
      ]
    },
    {
      "cell_type": "markdown",
      "source": [
        "# **SVR**"
      ],
      "metadata": {
        "id": "lUCyZMrgK_-i"
      }
    },
    {
      "cell_type": "code",
      "source": [
        "model = SVR()\n",
        "\n",
        "# Train the model on the training data\n",
        "model.fit(X_train, y_train)\n",
        "\n",
        "# Make predictions on the testing data\n",
        "y_pred = model.predict(X_test)\n",
        "\n",
        "# Calculate the mean squared error (MSE)\n",
        "mse = eva_per.mean_sqaure(y_test, y_pred)\n",
        "\n",
        "# Print the MSE\n",
        "print(\"Mean Squared Error:\", mse)\n",
        "\n",
        "\n",
        "#calculate the rmse score\n",
        "rmse_score =eva_per.rmse(y_test, y_pred)\n",
        "print(\"RMSE:\", rmse_score)\n",
        "\n",
        "mae_score = eva_per.mae(y_test, y_pred)\n",
        "print(\"MAE:\", mae_score)\n",
        "\n",
        "r2_score = eva_per.r_squared(y_test, y_pred)\n",
        "print(\"R-squared:\", r2_score)\n",
        "\n",
        "\n",
        "mape_score = eva_per.mape(y_test, y_pred)\n",
        "print(\"MAPE:\", mape_score)\n"
      ],
      "metadata": {
        "colab": {
          "base_uri": "https://localhost:8080/"
        },
        "id": "dl8tXsqJLFRp",
        "outputId": "3aa41ba3-ff3b-4305-bb01-2f3277350dc8"
      },
      "execution_count": null,
      "outputs": [
        {
          "output_type": "stream",
          "name": "stdout",
          "text": [
            "Mean Squared Error: 0.012523969411106154\n",
            "RMSE: 0.11191054200166378\n",
            "MAE: 0.06471669072728368\n",
            "R-squared: 0.14328074023972304\n",
            "MAPE: 27.153829648242915\n"
          ]
        }
      ]
    }
  ]
}